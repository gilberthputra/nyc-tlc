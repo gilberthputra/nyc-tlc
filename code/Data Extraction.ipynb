{
 "cells": [
  {
   "cell_type": "markdown",
   "id": "56db1701-a3f0-4edf-bf62-5795d6478521",
   "metadata": {},
   "source": [
    "# Data Extraction"
   ]
  },
  {
   "cell_type": "markdown",
   "id": "4a1c4902-21dd-4f19-8885-f44fe81bd148",
   "metadata": {},
   "source": [
    "Download 2018 Yellow Taxi, 2018 For-Hire Vehicle and 2019 Yellow Taxi dataset"
   ]
  },
  {
   "cell_type": "markdown",
   "id": "9ad04b21-6415-4a5e-8c09-45011b919b72",
   "metadata": {},
   "source": [
    "#### Run this only once! While waiting let's do something productive... perhaps"
   ]
  },
  {
   "cell_type": "code",
   "execution_count": 1,
   "id": "4ac117e6-f9df-4104-8d4e-2c90a0182839",
   "metadata": {
    "scrolled": true
   },
   "outputs": [
    {
     "name": "stdout",
     "output_type": "stream",
     "text": [
      "Done downloading yellow_tripdata_2018-01.csv to ../raw_data/YTX/2018/ with size 0.72GB\n",
      "Done downloading yellow_tripdata_2018-02.csv to ../raw_data/YTX/2018/ with size 0.70GB\n",
      "Done downloading yellow_tripdata_2018-03.csv to ../raw_data/YTX/2018/ with size 0.77GB\n",
      "Done downloading yellow_tripdata_2018-04.csv to ../raw_data/YTX/2018/ with size 0.76GB\n",
      "Done downloading yellow_tripdata_2018-05.csv to ../raw_data/YTX/2018/ with size 0.76GB\n",
      "Done downloading yellow_tripdata_2018-06.csv to ../raw_data/YTX/2018/ with size 0.72GB\n",
      "Done downloading yellow_tripdata_2018-07.csv to ../raw_data/YTX/2018/ with size 0.64GB\n",
      "Done downloading yellow_tripdata_2018-08.csv to ../raw_data/YTX/2018/ with size 0.64GB\n",
      "Done downloading yellow_tripdata_2018-09.csv to ../raw_data/YTX/2018/ with size 0.66GB\n",
      "Done downloading yellow_tripdata_2018-10.csv to ../raw_data/YTX/2018/ with size 0.73GB\n",
      "Done downloading yellow_tripdata_2018-11.csv to ../raw_data/YTX/2018/ with size 0.67GB\n",
      "Done downloading yellow_tripdata_2018-12.csv to ../raw_data/YTX/2018/ with size 0.67GB\n"
     ]
    }
   ],
   "source": [
    "## Taken from https://github.com/akiratwang/MAST30034_Python/blob/main/advanced_tutorials/Spark%20Tutorial.ipynb\n",
    "from os.path import getsize\n",
    "from urllib.request import urlretrieve\n",
    "\n",
    "output_ytx_2018 = \"../raw_data/YTX/2018/\"\n",
    "\n",
    "for m in range(1, 13):\n",
    "    month = str(m).zfill(2)\n",
    "    out = f'yellow_tripdata_2018-{month}.csv'\n",
    "    url = f\"https://s3.amazonaws.com/nyc-tlc/trip+data/{out}\"\n",
    "    urlretrieve(url, f\"{output_ytx_2018}/{out}\")\n",
    "\n",
    "    print(f\"Done downloading {out} to {output_ytx_2018} with size {getsize(f'{output_ytx_2018}/{out}') / 1073741824:.2f}GB\")"
   ]
  },
  {
   "cell_type": "code",
   "execution_count": 3,
   "id": "29099a75-71f3-4a2e-8a69-407df2e9617e",
   "metadata": {},
   "outputs": [
    {
     "name": "stdout",
     "output_type": "stream",
     "text": [
      "Done downloading yellow_tripdata_2019-01.csv to ../raw_data/YTX/2019/ with size 0.64GB\n",
      "Done downloading yellow_tripdata_2019-02.csv to ../raw_data/YTX/2019/ with size 0.61GB\n",
      "Done downloading yellow_tripdata_2019-03.csv to ../raw_data/YTX/2019/ with size 0.68GB\n",
      "Done downloading yellow_tripdata_2019-04.csv to ../raw_data/YTX/2019/ with size 0.64GB\n",
      "Done downloading yellow_tripdata_2019-05.csv to ../raw_data/YTX/2019/ with size 0.65GB\n",
      "Done downloading yellow_tripdata_2019-06.csv to ../raw_data/YTX/2019/ with size 0.60GB\n",
      "Done downloading yellow_tripdata_2019-07.csv to ../raw_data/YTX/2019/ with size 0.54GB\n",
      "Done downloading yellow_tripdata_2019-08.csv to ../raw_data/YTX/2019/ with size 0.52GB\n",
      "Done downloading yellow_tripdata_2019-09.csv to ../raw_data/YTX/2019/ with size 0.57GB\n",
      "Done downloading yellow_tripdata_2019-10.csv to ../raw_data/YTX/2019/ with size 0.62GB\n",
      "Done downloading yellow_tripdata_2019-11.csv to ../raw_data/YTX/2019/ with size 0.59GB\n",
      "Done downloading yellow_tripdata_2019-12.csv to ../raw_data/YTX/2019/ with size 0.60GB\n"
     ]
    }
   ],
   "source": [
    "# 2019 YTX dataset\n",
    "output_ytx_2019 = \"../raw_data/YTX/2019/\"\n",
    "\n",
    "for m in range(1, 13): \n",
    "    month = str(m).zfill(2)\n",
    "    out = f'yellow_tripdata_2019-{month}.csv'\n",
    "    url = f\"https://s3.amazonaws.com/nyc-tlc/trip+data/{out}\"\n",
    "    urlretrieve(url, f\"{output_ytx_2019}/{out}\")\n",
    "\n",
    "    print(f\"Done downloading {out} to {output_ytx_2019} with size {getsize(f'{output_ytx_2019}/{out}') / 1073741824:.2f}GB\")"
   ]
  },
  {
   "cell_type": "markdown",
   "id": "77c5bb20",
   "metadata": {},
   "source": [
    "## External\n",
    "### Download Here:\n",
    "* __[Global Hourly Climate 2018 Data](https://www.ncei.noaa.gov/data/global-hourly/archive/csv/2018.tar.gz)__\n",
    "* __[Global Hourly Climate 2019 Data](https://www.ncei.noaa.gov/data/global-hourly/archive/csv/2019.tar.gz)__\n",
    "\n",
    "Extract it to respective folder\n",
    "1. 2018 data: '../raw_data/GHC/2018/'\n",
    "1. 2019 data: '../raw_data/GHC/2019/'"
   ]
  }
 ],
 "metadata": {
  "kernelspec": {
   "display_name": "Python 3 (ipykernel)",
   "language": "python",
   "name": "python3"
  },
  "language_info": {
   "codemirror_mode": {
    "name": "ipython",
    "version": 3
   },
   "file_extension": ".py",
   "mimetype": "text/x-python",
   "name": "python",
   "nbconvert_exporter": "python",
   "pygments_lexer": "ipython3",
   "version": "3.7.12"
  },
  "varInspector": {
   "cols": {
    "lenName": 16,
    "lenType": 16,
    "lenVar": 40
   },
   "kernels_config": {
    "python": {
     "delete_cmd_postfix": "",
     "delete_cmd_prefix": "del ",
     "library": "var_list.py",
     "varRefreshCmd": "print(var_dic_list())"
    },
    "r": {
     "delete_cmd_postfix": ") ",
     "delete_cmd_prefix": "rm(",
     "library": "var_list.r",
     "varRefreshCmd": "cat(var_dic_list()) "
    }
   },
   "types_to_exclude": [
    "module",
    "function",
    "builtin_function_or_method",
    "instance",
    "_Feature"
   ],
   "window_display": false
  }
 },
 "nbformat": 4,
 "nbformat_minor": 5
}
