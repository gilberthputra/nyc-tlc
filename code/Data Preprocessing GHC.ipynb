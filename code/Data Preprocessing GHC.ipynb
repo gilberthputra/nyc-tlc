{
 "cells": [
  {
   "cell_type": "markdown",
   "id": "ed2f8c21",
   "metadata": {},
   "source": [
    "# Global Hourly Climate Data"
   ]
  },
  {
   "cell_type": "markdown",
   "id": "566c1e0d",
   "metadata": {},
   "source": [
    "## Data Preprocessing"
   ]
  },
  {
   "cell_type": "markdown",
   "id": "2ff88814",
   "metadata": {},
   "source": [
    "Taken From:\n",
    "* __[GHC 2018 Data](https://www.ncei.noaa.gov/data/global-hourly/archive/csv/2018.tar.gz)__\n",
    "* __[GHC 2019 Data](https://www.ncei.noaa.gov/data/global-hourly/archive/csv/2019.tar.gz)__\n",
    "* __[ISD Data Documentation](https://www.ncei.noaa.gov/data/global-hourly/doc/isd-format-document.pdf)__\n",
    "* https://www.ncei.noaa.gov/data/global-hourly/doc/CSV_HELP.pdf"
   ]
  },
  {
   "cell_type": "code",
   "execution_count": 1,
   "id": "8384bcf1",
   "metadata": {},
   "outputs": [
    {
     "data": {
      "text/html": [
       "\n",
       "            <div>\n",
       "                <p><b>SparkSession - in-memory</b></p>\n",
       "                \n",
       "        <div>\n",
       "            <p><b>SparkContext</b></p>\n",
       "\n",
       "            <p><a href=\"http://172.30.147.127:4042\">Spark UI</a></p>\n",
       "\n",
       "            <dl>\n",
       "              <dt>Version</dt>\n",
       "                <dd><code>v3.2.0</code></dd>\n",
       "              <dt>Master</dt>\n",
       "                <dd><code>local[*]</code></dd>\n",
       "              <dt>AppName</dt>\n",
       "                <dd><code>GHC</code></dd>\n",
       "            </dl>\n",
       "        </div>\n",
       "        \n",
       "            </div>\n",
       "        "
      ],
      "text/plain": [
       "<pyspark.sql.session.SparkSession at 0x7f83ab8fbe20>"
      ]
     },
     "execution_count": 1,
     "metadata": {},
     "output_type": "execute_result"
    }
   ],
   "source": [
    "import warnings\n",
    "import pandas as pd\n",
    "import geopandas as gpd\n",
    "import pyspark.sql.functions as f\n",
    "\n",
    "from pyspark.sql.types import *\n",
    "from pyspark.sql import SparkSession\n",
    "from pyspark import SparkContext\n",
    "\n",
    "warnings.filterwarnings(\"ignore\")\n",
    "\n",
    "#sc = SparkContext.getOrCreate(conf=swan_spark_conf) \n",
    "spark = SparkSession.builder.appName('GHC').getOrCreate()\n",
    "spark"
   ]
  },
  {
   "cell_type": "code",
   "execution_count": 2,
   "id": "840d8b4d",
   "metadata": {},
   "outputs": [],
   "source": [
    "spark.conf.set(\"spark.sql.execution.arrow.pyspark.enabled\", \"true\")\n",
    "spark.conf.set(\"spark.sql.legacy.timeParserPolicy\",\"LEGACY\")\n",
    "spark.conf.set('spark.sql.repl.eagerEval.enabled', True)"
   ]
  },
  {
   "cell_type": "markdown",
   "id": "e9f50497",
   "metadata": {},
   "source": [
    "### Station List"
   ]
  },
  {
   "cell_type": "code",
   "execution_count": 3,
   "id": "c793b6d2",
   "metadata": {},
   "outputs": [],
   "source": [
    "stations_pdf = pd.read_csv('../raw_data/GHC/stations.csv')"
   ]
  },
  {
   "cell_type": "code",
   "execution_count": 4,
   "id": "6f8ceba5",
   "metadata": {},
   "outputs": [],
   "source": [
    "filtered_station = stations_pdf.loc[(stations_pdf['END_DATE'] > '2019-12-31') & (stations_pdf['BEGIN_DATE'] < '2018-01-01')]"
   ]
  },
  {
   "cell_type": "code",
   "execution_count": 5,
   "id": "4e0b302a",
   "metadata": {},
   "outputs": [
    {
     "data": {
      "text/html": [
       "<div>\n",
       "<style scoped>\n",
       "    .dataframe tbody tr th:only-of-type {\n",
       "        vertical-align: middle;\n",
       "    }\n",
       "\n",
       "    .dataframe tbody tr th {\n",
       "        vertical-align: top;\n",
       "    }\n",
       "\n",
       "    .dataframe thead th {\n",
       "        text-align: right;\n",
       "    }\n",
       "</style>\n",
       "<table border=\"1\" class=\"dataframe\">\n",
       "  <thead>\n",
       "    <tr style=\"text-align: right;\">\n",
       "      <th></th>\n",
       "      <th>STATION_ID</th>\n",
       "      <th>STATION</th>\n",
       "      <th>BEGIN_DATE</th>\n",
       "      <th>END_DATE</th>\n",
       "      <th>STATE</th>\n",
       "      <th>COUNTRY</th>\n",
       "      <th>LATITUDE</th>\n",
       "      <th>LONGITUDE</th>\n",
       "      <th>ELEVATION</th>\n",
       "    </tr>\n",
       "  </thead>\n",
       "  <tbody>\n",
       "    <tr>\n",
       "      <th>0</th>\n",
       "      <td>99727299999</td>\n",
       "      <td>BERGEN POINT</td>\n",
       "      <td>2008-01-01</td>\n",
       "      <td>2021-08-12</td>\n",
       "      <td>NY</td>\n",
       "      <td>US</td>\n",
       "      <td>40.639000</td>\n",
       "      <td>-74.146000</td>\n",
       "      <td>10.00</td>\n",
       "    </tr>\n",
       "    <tr>\n",
       "      <th>2</th>\n",
       "      <td>72505394728</td>\n",
       "      <td>CENTRAL PARK</td>\n",
       "      <td>2005-01-01</td>\n",
       "      <td>2021-08-13</td>\n",
       "      <td>NY</td>\n",
       "      <td>US</td>\n",
       "      <td>40.778980</td>\n",
       "      <td>-73.969250</td>\n",
       "      <td>42.67</td>\n",
       "    </tr>\n",
       "    <tr>\n",
       "      <th>3</th>\n",
       "      <td>74486094789</td>\n",
       "      <td>JOHN F KENNEDY INTERNATIONAL AIRPORT</td>\n",
       "      <td>1973-01-01</td>\n",
       "      <td>2021-08-13</td>\n",
       "      <td>NY</td>\n",
       "      <td>US</td>\n",
       "      <td>40.639150</td>\n",
       "      <td>-73.764010</td>\n",
       "      <td>3.35</td>\n",
       "    </tr>\n",
       "    <tr>\n",
       "      <th>4</th>\n",
       "      <td>99728099999</td>\n",
       "      <td>KINGS POINT</td>\n",
       "      <td>2008-01-01</td>\n",
       "      <td>2021-08-12</td>\n",
       "      <td>NY</td>\n",
       "      <td>US</td>\n",
       "      <td>40.800000</td>\n",
       "      <td>-73.770000</td>\n",
       "      <td>10.00</td>\n",
       "    </tr>\n",
       "    <tr>\n",
       "      <th>5</th>\n",
       "      <td>72503014732</td>\n",
       "      <td>LA GUARDIA AIRPORT</td>\n",
       "      <td>1973-01-01</td>\n",
       "      <td>2021-08-13</td>\n",
       "      <td>NY</td>\n",
       "      <td>US</td>\n",
       "      <td>40.779440</td>\n",
       "      <td>-73.880350</td>\n",
       "      <td>3.35</td>\n",
       "    </tr>\n",
       "    <tr>\n",
       "      <th>8</th>\n",
       "      <td>72058100178</td>\n",
       "      <td>LINDEN AIRPORT</td>\n",
       "      <td>2017-01-01</td>\n",
       "      <td>2021-08-13</td>\n",
       "      <td>NJ</td>\n",
       "      <td>US</td>\n",
       "      <td>40.617000</td>\n",
       "      <td>-74.250000</td>\n",
       "      <td>7.01</td>\n",
       "    </tr>\n",
       "    <tr>\n",
       "      <th>16</th>\n",
       "      <td>72502014734</td>\n",
       "      <td>NEWARK LIBERTY INTERNATIONAL AP</td>\n",
       "      <td>1973-01-01</td>\n",
       "      <td>2021-08-13</td>\n",
       "      <td>NJ</td>\n",
       "      <td>US</td>\n",
       "      <td>40.682500</td>\n",
       "      <td>-74.169400</td>\n",
       "      <td>2.13</td>\n",
       "    </tr>\n",
       "    <tr>\n",
       "      <th>19</th>\n",
       "      <td>72055399999</td>\n",
       "      <td>PORT AUTH DOWNTN MANHATTAN WALL ST HEL</td>\n",
       "      <td>2016-07-20</td>\n",
       "      <td>2021-08-12</td>\n",
       "      <td>NY</td>\n",
       "      <td>US</td>\n",
       "      <td>40.701214</td>\n",
       "      <td>-74.009028</td>\n",
       "      <td>2.13</td>\n",
       "    </tr>\n",
       "    <tr>\n",
       "      <th>20</th>\n",
       "      <td>99774399999</td>\n",
       "      <td>ROBBINS REEF</td>\n",
       "      <td>2008-01-01</td>\n",
       "      <td>2021-08-12</td>\n",
       "      <td>NJ</td>\n",
       "      <td>US</td>\n",
       "      <td>40.650000</td>\n",
       "      <td>-74.066667</td>\n",
       "      <td>72.00</td>\n",
       "    </tr>\n",
       "    <tr>\n",
       "      <th>21</th>\n",
       "      <td>99727199999</td>\n",
       "      <td>THE BATTERY</td>\n",
       "      <td>2008-01-17</td>\n",
       "      <td>2021-08-12</td>\n",
       "      <td>NY</td>\n",
       "      <td>US</td>\n",
       "      <td>40.701000</td>\n",
       "      <td>-74.014000</td>\n",
       "      <td>10.00</td>\n",
       "    </tr>\n",
       "  </tbody>\n",
       "</table>\n",
       "</div>"
      ],
      "text/plain": [
       "     STATION_ID                                 STATION  BEGIN_DATE  \\\n",
       "0   99727299999                            BERGEN POINT  2008-01-01   \n",
       "2   72505394728                            CENTRAL PARK  2005-01-01   \n",
       "3   74486094789    JOHN F KENNEDY INTERNATIONAL AIRPORT  1973-01-01   \n",
       "4   99728099999                             KINGS POINT  2008-01-01   \n",
       "5   72503014732                      LA GUARDIA AIRPORT  1973-01-01   \n",
       "8   72058100178                          LINDEN AIRPORT  2017-01-01   \n",
       "16  72502014734         NEWARK LIBERTY INTERNATIONAL AP  1973-01-01   \n",
       "19  72055399999  PORT AUTH DOWNTN MANHATTAN WALL ST HEL  2016-07-20   \n",
       "20  99774399999                            ROBBINS REEF  2008-01-01   \n",
       "21  99727199999                             THE BATTERY  2008-01-17   \n",
       "\n",
       "      END_DATE STATE COUNTRY   LATITUDE  LONGITUDE  ELEVATION  \n",
       "0   2021-08-12    NY      US  40.639000 -74.146000      10.00  \n",
       "2   2021-08-13    NY      US  40.778980 -73.969250      42.67  \n",
       "3   2021-08-13    NY      US  40.639150 -73.764010       3.35  \n",
       "4   2021-08-12    NY      US  40.800000 -73.770000      10.00  \n",
       "5   2021-08-13    NY      US  40.779440 -73.880350       3.35  \n",
       "8   2021-08-13    NJ      US  40.617000 -74.250000       7.01  \n",
       "16  2021-08-13    NJ      US  40.682500 -74.169400       2.13  \n",
       "19  2021-08-12    NY      US  40.701214 -74.009028       2.13  \n",
       "20  2021-08-12    NJ      US  40.650000 -74.066667      72.00  \n",
       "21  2021-08-12    NY      US  40.701000 -74.014000      10.00  "
      ]
     },
     "execution_count": 5,
     "metadata": {},
     "output_type": "execute_result"
    }
   ],
   "source": [
    "filtered_station"
   ]
  },
  {
   "cell_type": "markdown",
   "id": "0997ef22",
   "metadata": {},
   "source": [
    "### Load 2018 Global Hourly Climate Data and Select Stations"
   ]
  },
  {
   "cell_type": "markdown",
   "id": "93567770",
   "metadata": {},
   "source": [
    "__Main Observation__: \n",
    "1. WND : WIND-OBSERVATION\n",
    "1. CIG : SKY-CONDITION-OBSERVATION\n",
    "1. VIS : VISIBILITY-OBSERVATION\n",
    "1. TMP : AIR-TEMPERATURE-OBSERVATION air temperature\n",
    "1. DEW : AIR-TEMPERATURE-OBSERVATION dew point\n",
    "1. SLP : AIR-PRESSURE-OBSERVATION"
   ]
  },
  {
   "cell_type": "code",
   "execution_count": 6,
   "id": "2ecb8bd1",
   "metadata": {},
   "outputs": [],
   "source": [
    "ghc_2018_sdf = spark.read.csv('../raw_data/GHC/2018', header=True, inferSchema = True)"
   ]
  },
  {
   "cell_type": "code",
   "execution_count": 7,
   "id": "0aca13f3",
   "metadata": {},
   "outputs": [],
   "source": [
    "nyc_ghc_2018_sdf = ghc_2018_sdf.filter((ghc_2018_sdf.STATION.contains('99727299999')) | # BERGEN POINT\n",
    "                                       (ghc_2018_sdf.STATION.contains('72505394728')) | # CENTRAL PARK\n",
    "                                       (ghc_2018_sdf.STATION.contains('74486094789')) | # JOHN F KENNEDY INTERNATIONAL AIRPORT\n",
    "                                       (ghc_2018_sdf.STATION.contains('99728099999')) | # KINGS POINT\n",
    "                                       (ghc_2018_sdf.STATION.contains('72503014732')) | # LA GUARDIA AIRPORT\n",
    "                                       (ghc_2018_sdf.STATION.contains('72058100178')) | # LINDEN AIRPORT\n",
    "                                       (ghc_2018_sdf.STATION.contains('72502014734')) | # NEWARK LIBERTY INTERNATIONAL AP\n",
    "                                       (ghc_2018_sdf.STATION.contains('72055399999')) | # PORT AUTH DOWNTN MANHATTAN WALL ST HEL\n",
    "                                       (ghc_2018_sdf.STATION.contains('99774399999')) | # ROBBINS REEF\n",
    "                                       (ghc_2018_sdf.STATION.contains('99727199999')))  # THE BATTERY"
   ]
  },
  {
   "cell_type": "code",
   "execution_count": 8,
   "id": "f9ba8e7b",
   "metadata": {},
   "outputs": [],
   "source": [
    "nyc_ghc_2018_sdf = nyc_ghc_2018_sdf.select('DATE', 'WND', 'CIG', 'CIG', \n",
    "                                           'VIS', 'TMP', 'DEW', 'SLP')"
   ]
  },
  {
   "cell_type": "code",
   "execution_count": 9,
   "id": "c484f9ec",
   "metadata": {},
   "outputs": [],
   "source": [
    "# WIND OBSERVATION\n",
    "# Split column value with ',' in it\n",
    "# Example, \"9999, 1, N, 99\" string become a list of [\"9999\", \"1\", \"N\", \"99\"]\n",
    "split_col = f.split(nyc_ghc_2018_sdf['WND'], ',')\n",
    "nyc_ghc_2018_sdf = nyc_ghc_2018_sdf.withColumn('wind_angle_degrees', split_col.getItem(0)) \\\n",
    "                                   .withColumn('wind_angle_qcode', split_col.getItem(1)) \\\n",
    "                                   .withColumn('wind_type_code', split_col.getItem(2)) \\\n",
    "                                   .withColumn('wind_speed_mps', split_col.getItem(3)) \\\n",
    "                                   .withColumn('wind_speed_qcode', split_col.getItem(4)) \\\n",
    "                                   .drop('WND')\n",
    "\n",
    "# SKY CONDITION OBSERVATION\n",
    "split_col = f.split(nyc_ghc_2018_sdf['CIG'], ',')\n",
    "nyc_ghc_2018_sdf = nyc_ghc_2018_sdf.withColumn('sky_ceil_height_meters', split_col.getItem(0)) \\\n",
    "                                   .withColumn('sky_ceil_qcode', split_col.getItem(1)) \\\n",
    "                                   .withColumn('sky_ceil_det_code', split_col.getItem(2)) \\\n",
    "                                   .withColumn('sky_cavok', split_col.getItem(3)) \\\n",
    "                                   .drop('CIG')\n",
    "\n",
    "# VISIBILITY OBSERVATION\n",
    "split_col = f.split(nyc_ghc_2018_sdf['VIS'], ',')\n",
    "nyc_ghc_2018_sdf = nyc_ghc_2018_sdf.withColumn('vis_distance_meters', split_col.getItem(0)) \\\n",
    "                                   .withColumn('vis_distance_qcode', split_col.getItem(1)) \\\n",
    "                                   .withColumn('vis_vary_code', split_col.getItem(2)) \\\n",
    "                                   .withColumn('vis_vary_qcode', split_col.getItem(3)) \\\n",
    "                                   .drop('VIS')\n",
    "\n",
    "# AIR TEMP OBSERVATION air\n",
    "split_col = f.split(nyc_ghc_2018_sdf['TMP'], ',')\n",
    "nyc_ghc_2018_sdf = nyc_ghc_2018_sdf.withColumn('air_temp_celsius', split_col.getItem(0)) \\\n",
    "                                   .withColumn('air_temp_qcode', split_col.getItem(1)) \\\n",
    "                                   .drop('TMP')\n",
    "\n",
    "# AIR TEMP OBSERVATION dew\n",
    "split_col = f.split(nyc_ghc_2018_sdf['DEW'], ',')\n",
    "nyc_ghc_2018_sdf = nyc_ghc_2018_sdf.withColumn('dew_point_celsius', split_col.getItem(0)) \\\n",
    "                                   .withColumn('dew_point_qcode', split_col.getItem(1)) \\\n",
    "                                   .drop('DEW')\n",
    "\n",
    "# ATMOSPHERIC PRESSURE OBSERVATION sea level pressure\n",
    "split_col = f.split(nyc_ghc_2018_sdf['SLP'], ',')\n",
    "nyc_ghc_2018_sdf = nyc_ghc_2018_sdf.withColumn('atp_hectopascals', split_col.getItem(0)) \\\n",
    "                                   .withColumn('atp_qcode', split_col.getItem(1)) \\\n",
    "                                   .drop('SLP')"
   ]
  },
  {
   "cell_type": "code",
   "execution_count": 10,
   "id": "6fb42372",
   "metadata": {},
   "outputs": [],
   "source": [
    "nyc_ghc_2018_sdf = nyc_ghc_2018_sdf.withColumn('wind_angle_degrees', f.regexp_replace('wind_angle_degrees', r\"^0+(?!$)\", '')) \\\n",
    "                                   .withColumn('wind_speed_mps', f.regexp_replace('wind_speed_mps', r\"^0+(?!$)\", '')) \\\n",
    "                                   .withColumn('sky_ceil_height_meters', f.regexp_replace('sky_ceil_height_meters', r\"^0+(?!$)\", '')) \\\n",
    "                                   .withColumn('vis_distance_meters', f.regexp_replace('vis_distance_meters', r\"^0+(?!$)\", '')) \\\n",
    "                                   .withColumn('air_temp_celsius', f.regexp_replace('air_temp_celsius', r\"(^\\+)|(^\\-)?0+(?!$)\", '')) \\\n",
    "                                   .withColumn('dew_point_celsius', f.regexp_replace('dew_point_celsius', r\"(^\\+)|(^\\-)?0+(?!$)\", '')) \\\n",
    "                                   .withColumn('atp_hectopascals', f.regexp_replace('atp_hectopascals', r\"^0+(?!$)\", ''))"
   ]
  },
  {
   "cell_type": "markdown",
   "id": "395f09bd",
   "metadata": {},
   "source": [
    " #### Setting Schema"
   ]
  },
  {
   "cell_type": "code",
   "execution_count": 11,
   "id": "8fe3bf81",
   "metadata": {},
   "outputs": [],
   "source": [
    "from shutil import rmtree\n",
    "from os import path\n",
    "\n",
    "fpath = '../preprocessed_data/nyc_ghc_2018'\n",
    "\n",
    "if path.exists(fpath):\n",
    "    rmtree(fpath)\n",
    "        \n",
    "nyc_ghc_2018_sdf.write.option(\"header\", True).csv(\"../preprocessed_data/nyc_ghc_2018\")"
   ]
  },
  {
   "cell_type": "code",
   "execution_count": 12,
   "id": "d87dcf29",
   "metadata": {},
   "outputs": [
    {
     "name": "stdout",
     "output_type": "stream",
     "text": [
      "root\n",
      " |-- DATE: timestamp (nullable = true)\n",
      " |-- wind_angle_degrees: integer (nullable = true)\n",
      " |-- wind_angle_qcode: string (nullable = true)\n",
      " |-- wind_type_code: string (nullable = true)\n",
      " |-- wind_speed_mps: integer (nullable = true)\n",
      " |-- wind_speed_qcode: string (nullable = true)\n",
      " |-- sky_ceil_height_meters: integer (nullable = true)\n",
      " |-- sky_ceil_qcode: string (nullable = true)\n",
      " |-- sky_ceil_det_code: string (nullable = true)\n",
      " |-- sky_cavok: string (nullable = true)\n",
      " |-- vis_distance_meters: integer (nullable = true)\n",
      " |-- vis_distance_qcode: string (nullable = true)\n",
      " |-- vis_vary_code: string (nullable = true)\n",
      " |-- vis_vary_qcode: string (nullable = true)\n",
      " |-- air_temp_celsius: integer (nullable = true)\n",
      " |-- air_temp_qcode: string (nullable = true)\n",
      " |-- dew_point_celsius: integer (nullable = true)\n",
      " |-- dew_point_qcode: string (nullable = true)\n",
      " |-- atp_hectopascals: integer (nullable = true)\n",
      " |-- atp_qcode: string (nullable = true)\n",
      "\n"
     ]
    }
   ],
   "source": [
    "nyc_ghc_2018_sdf = spark.read.csv('../preprocessed_data/nyc_ghc_2018/', header = True)\n",
    "\n",
    "ints = ('wind_angle_degrees', 'wind_speed_mps', 'sky_ceil_height_meters', 'vis_distance_meters', \n",
    "        'air_temp_celsius', 'dew_point_celsius', 'atp_hectopascals')\n",
    "\n",
    "strings = ('wind_angle_qcode', 'wind_type_code', 'wind_speed_qcode', 'sky_ceil_qcode',\n",
    "           'sky_ceil_det_code', 'sky_cavok', 'vis_distance_qcode', 'vis_vary_code', \n",
    "           'vis_vary_qcode', 'air_temp_qcode', 'dew_point_qcode', 'atp_qcode')\n",
    "\n",
    "dtimes = ('DATE',)\n",
    "\n",
    "dtypes = {column: IntegerType() for column in ints}\n",
    "dtypes.update({column: StringType() for column in strings})\n",
    "dtypes.update({column: TimestampType() for column in dtimes})\n",
    "\n",
    "schema = StructType()\n",
    "\n",
    "for column in nyc_ghc_2018_sdf.columns:\n",
    "    schema.add(column, # column name\n",
    "               dtypes[column], # data type\n",
    "               True # is nullable?\n",
    "              )\n",
    "    \n",
    "nyc_ghc_2018_sdf = spark.read.csv('../preprocessed_data/nyc_ghc_2018/', header = True, schema = schema)\n",
    "nyc_ghc_2018_sdf.printSchema()"
   ]
  },
  {
   "cell_type": "code",
   "execution_count": 13,
   "id": "0be3c963",
   "metadata": {},
   "outputs": [],
   "source": [
    "from pyspark.sql.functions import col,when\n",
    "\n",
    "nyc_ghc_2018_sdf = nyc_ghc_2018_sdf.withColumn(\"wind_angle_degrees\", \n",
    "                            when(nyc_ghc_2018_sdf[\"wind_angle_degrees\"] == '999',None) \\\n",
    "                            .otherwise(nyc_ghc_2018_sdf[\"wind_angle_degrees\"]))\n",
    "\n",
    "nyc_ghc_2018_sdf = nyc_ghc_2018_sdf.withColumn(\"wind_speed_mps\", \n",
    "                            when(nyc_ghc_2018_sdf[\"wind_speed_mps\"] == '9999',None) \\\n",
    "                            .otherwise(nyc_ghc_2018_sdf[\"wind_speed_mps\"]))\n",
    "\n",
    "nyc_ghc_2018_sdf = nyc_ghc_2018_sdf.withColumn(\"air_temp_celsius\", \n",
    "                            when(nyc_ghc_2018_sdf[\"air_temp_celsius\"] == '9999',None) \\\n",
    "                            .otherwise(nyc_ghc_2018_sdf[\"air_temp_celsius\"]))\n",
    "\n",
    "nyc_ghc_2018_sdf = nyc_ghc_2018_sdf.withColumn(\"dew_point_celsius\", \n",
    "                            when(nyc_ghc_2018_sdf[\"dew_point_celsius\"] == '9999',None) \\\n",
    "                            .otherwise(nyc_ghc_2018_sdf[\"dew_point_celsius\"]))\n",
    "\n",
    "nyc_ghc_2018_sdf = nyc_ghc_2018_sdf.withColumn(\"sky_ceil_height_meters\", \n",
    "                            when(nyc_ghc_2018_sdf[\"sky_ceil_height_meters\"] == '99999',None) \\\n",
    "                            .otherwise(nyc_ghc_2018_sdf[\"sky_ceil_height_meters\"]))\n",
    "\n",
    "nyc_ghc_2018_sdf = nyc_ghc_2018_sdf.withColumn(\"atp_hectopascals\", \n",
    "                            when(nyc_ghc_2018_sdf[\"atp_hectopascals\"] == '99999',None) \\\n",
    "                            .otherwise(nyc_ghc_2018_sdf[\"atp_hectopascals\"]))\n",
    "\n",
    "nyc_ghc_2018_sdf = nyc_ghc_2018_sdf.withColumn(\"vis_distance_meters\", \n",
    "                            when(nyc_ghc_2018_sdf[\"vis_distance_meters\"] == '999999',None) \\\n",
    "                            .otherwise(nyc_ghc_2018_sdf[\"vis_distance_meters\"]))"
   ]
  },
  {
   "cell_type": "code",
   "execution_count": 14,
   "id": "73147a42",
   "metadata": {},
   "outputs": [],
   "source": [
    "from pyspark.ml.feature import Imputer\n",
    "\n",
    "imputer = Imputer(inputCols = ['wind_angle_degrees', \"wind_speed_mps\", \"air_temp_celsius\", \n",
    "                              \"dew_point_celsius\", \"sky_ceil_height_meters\", \"atp_hectopascals\", \n",
    "                               \"vis_distance_meters\"],\n",
    "                  outputCols = [\"{}_imputed\".format(c) \n",
    "                                for c in ['wind_angle_degrees', \"wind_speed_mps\", \"air_temp_celsius\", \n",
    "                                          \"dew_point_celsius\", \"sky_ceil_height_meters\", \"atp_hectopascals\", \n",
    "                                           \"vis_distance_meters\"]]\n",
    "                 ).setStrategy(\"mean\")\n",
    "\n",
    "nyc_ghc_2018_sdf = imputer.fit(nyc_ghc_2018_sdf).transform(nyc_ghc_2018_sdf)"
   ]
  },
  {
   "cell_type": "code",
   "execution_count": 15,
   "id": "8abfcf46",
   "metadata": {},
   "outputs": [],
   "source": [
    "nyc_ghc_2018_sdf = nyc_ghc_2018_sdf.select('DATE', 'wind_angle_degrees_imputed', \n",
    "                                           'wind_speed_mps_imputed', 'air_temp_celsius_imputed', \n",
    "                                           'dew_point_celsius_imputed', 'sky_ceil_height_meters_imputed', \n",
    "                                           'atp_hectopascals_imputed', 'vis_distance_meters_imputed')"
   ]
  },
  {
   "cell_type": "code",
   "execution_count": 16,
   "id": "558ab0fc",
   "metadata": {},
   "outputs": [],
   "source": [
    "# Filter through the minimum and maximum set in the dictionary\n",
    "nyc_ghc_2018_sdf = nyc_ghc_2018_sdf.filter('wind_angle_degrees_imputed >= 0 and wind_angle_degrees_imputed <= 360') \\\n",
    "                                    .filter('wind_speed_mps_imputed >= 0 and wind_speed_mps_imputed <= 900') \\\n",
    "                                    .filter('air_temp_celsius_imputed >= -932 and air_temp_celsius_imputed <= 618') \\\n",
    "                                    .filter('dew_point_celsius_imputed >= -982 and dew_point_celsius_imputed <= 368') \\\n",
    "                                    .filter('sky_ceil_height_meters_imputed >= 0 and sky_ceil_height_meters_imputed <= 22000') \\\n",
    "                                    .filter('atp_hectopascals_imputed >= 8600 and atp_hectopascals_imputed <= 10900') \\\n",
    "                                    .filter('vis_distance_meters_imputed >= 0 and vis_distance_meters_imputed <= 160000')"
   ]
  },
  {
   "cell_type": "code",
   "execution_count": 17,
   "id": "fd220798",
   "metadata": {},
   "outputs": [],
   "source": [
    "# Descaling some features given in the dictionary\n",
    "# Wind speed scaled by 10 \n",
    "# Air temp scaled by 10\n",
    "# Dew point scaled by 10\n",
    "# ATP scaled by 10\n",
    "# All descaled by 10\n",
    "\n",
    "nyc_ghc_2018_sdf = nyc_ghc_2018_sdf.withColumn('wind_speed_mps', nyc_ghc_2018_sdf['wind_speed_mps_imputed'] / 10) \\\n",
    "                                    .withColumn('air_temp_celsius', nyc_ghc_2018_sdf['air_temp_celsius_imputed'] / 10) \\\n",
    "                                    .withColumn('dew_temp_celsius', nyc_ghc_2018_sdf['dew_point_celsius_imputed'] / 10) \\\n",
    "                                    .withColumn('atp_hectopascals', nyc_ghc_2018_sdf['atp_hectopascals_imputed'] / 10)"
   ]
  },
  {
   "cell_type": "code",
   "execution_count": 18,
   "id": "c08772a6",
   "metadata": {},
   "outputs": [],
   "source": [
    "# Renaming and drop columns\n",
    "nyc_ghc_2018_sdf = nyc_ghc_2018_sdf.withColumnRenamed('wind_angle_degrees_imputed', 'wind_angle_degrees') \\\n",
    "                                   .withColumnRenamed('sky_ceil_height_meters_imputed', 'sky_ceil_height_meters') \\\n",
    "                                   .withColumnRenamed('vis_distance_meters_imputed', 'vis_distance_meters')\n",
    "\n",
    "nyc_ghc_2018_sdf = nyc_ghc_2018_sdf.drop('wind_speed_mps_imputed', 'air_temp_celsius_imputed', \n",
    "                                         'dew_point_celsius_imputed', 'atp_hectopascals_imputed')\n",
    "\n",
    "# Reorder columns\n",
    "nyc_ghc_2018_sdf = nyc_ghc_2018_sdf.select('DATE', 'wind_angle_degrees', \n",
    "                                           'wind_speed_mps', 'air_temp_celsius', \n",
    "                                           'dew_temp_celsius','sky_ceil_height_meters', \n",
    "                                           'vis_distance_meters', 'atp_hectopascals')\n",
    "\n",
    "nyc_ghc_2018_sdf = nyc_ghc_2018_sdf.orderBy('DATE')"
   ]
  },
  {
   "cell_type": "code",
   "execution_count": 19,
   "id": "8cd3db8f",
   "metadata": {},
   "outputs": [
    {
     "data": {
      "text/html": [
       "<table border='1'>\n",
       "<tr><th>DATE</th><th>wind_angle_degrees</th><th>wind_speed_mps</th><th>air_temp_celsius</th><th>dew_temp_celsius</th><th>sky_ceil_height_meters</th><th>vis_distance_meters</th><th>atp_hectopascals</th></tr>\n",
       "<tr><td>2018-01-01 00:00:00</td><td>320</td><td>8.2</td><td>1.6</td><td>18.3</td><td>22000</td><td>16000</td><td>1026.3</td></tr>\n",
       "<tr><td>2018-01-01 00:00:00</td><td>310</td><td>9.3</td><td>11.1</td><td>2.0</td><td>22000</td><td>16000</td><td>1026.8</td></tr>\n",
       "<tr><td>2018-01-01 00:00:00</td><td>320</td><td>5.1</td><td>1.6</td><td>2.0</td><td>22000</td><td>16000</td><td>1026.7</td></tr>\n",
       "<tr><td>2018-01-01 00:00:00</td><td>310</td><td>9.8</td><td>1.5</td><td>9.9</td><td>10472</td><td>14287</td><td>1027.1</td></tr>\n",
       "<tr><td>2018-01-01 00:00:00</td><td>10</td><td>7.2</td><td>1.4</td><td>9.9</td><td>10472</td><td>14287</td><td>1027.3</td></tr>\n",
       "</table>\n"
      ],
      "text/plain": [
       "+-------------------+------------------+--------------+----------------+----------------+----------------------+-------------------+----------------+\n",
       "|               DATE|wind_angle_degrees|wind_speed_mps|air_temp_celsius|dew_temp_celsius|sky_ceil_height_meters|vis_distance_meters|atp_hectopascals|\n",
       "+-------------------+------------------+--------------+----------------+----------------+----------------------+-------------------+----------------+\n",
       "|2018-01-01 00:00:00|               320|           8.2|             1.6|            18.3|                 22000|              16000|          1026.3|\n",
       "|2018-01-01 00:00:00|               310|           9.3|            11.1|             2.0|                 22000|              16000|          1026.8|\n",
       "|2018-01-01 00:00:00|               320|           5.1|             1.6|             2.0|                 22000|              16000|          1026.7|\n",
       "|2018-01-01 00:00:00|               310|           9.8|             1.5|             9.9|                 10472|              14287|          1027.1|\n",
       "|2018-01-01 00:00:00|                10|           7.2|             1.4|             9.9|                 10472|              14287|          1027.3|\n",
       "+-------------------+------------------+--------------+----------------+----------------+----------------------+-------------------+----------------+"
      ]
     },
     "execution_count": 19,
     "metadata": {},
     "output_type": "execute_result"
    }
   ],
   "source": [
    "nyc_ghc_2018_sdf.limit(5)"
   ]
  },
  {
   "cell_type": "code",
   "execution_count": 20,
   "id": "89a81ea7",
   "metadata": {},
   "outputs": [],
   "source": [
    "nyc_ghc_2018_sdf = nyc_ghc_2018_sdf.groupBy('DATE').agg(f.mean('wind_angle_degrees'), f.mean('wind_speed_mps'),\n",
    "                                                        f.mean('air_temp_celsius'), f.mean('dew_temp_celsius'),\n",
    "                                                        f.mean('sky_ceil_height_meters'), f.mean('vis_distance_meters'), \n",
    "                                                        f.mean('atp_hectopascals')).orderBy('Date')"
   ]
  },
  {
   "cell_type": "code",
   "execution_count": 21,
   "id": "af630c23",
   "metadata": {},
   "outputs": [],
   "source": [
    "nyc_ghc_2018_sdf = nyc_ghc_2018_sdf.withColumnRenamed('avg(wind_angle_degrees)', 'wind_angle_degrees') \\\n",
    "                                   .withColumnRenamed('avg(wind_speed_mps)', 'wind_speed_mps') \\\n",
    "                                   .withColumnRenamed('avg(air_temp_celsius)', 'air_temp_celsius') \\\n",
    "                                   .withColumnRenamed('avg(dew_temp_celsius)', 'dew_temp_celsius') \\\n",
    "                                   .withColumnRenamed('avg(sky_ceil_height_meters)', 'sky_ceil_height_meters') \\\n",
    "                                   .withColumnRenamed('avg(vis_distance_meters)', 'vis_distance_meters') \\\n",
    "                                   .withColumnRenamed('avg(atp_hectopascals)', 'atp_hectopascals')"
   ]
  },
  {
   "cell_type": "code",
   "execution_count": 22,
   "id": "fff402ab",
   "metadata": {},
   "outputs": [],
   "source": [
    "nyc_ghc_2018_sdf = nyc_ghc_2018_sdf.withColumn(\"closest_hour\", f.date_trunc(\"hour\", f.col(\"DATE\")))"
   ]
  },
  {
   "cell_type": "code",
   "execution_count": 23,
   "id": "130e2834",
   "metadata": {},
   "outputs": [],
   "source": [
    "nyc_ghc_2018_sdf = nyc_ghc_2018_sdf.groupBy(\"closest_hour\").agg(f.mean('wind_angle_degrees'), f.mean('wind_speed_mps'),\n",
    "                                                        f.mean('air_temp_celsius'), f.mean('dew_temp_celsius'),\n",
    "                                                        f.mean('sky_ceil_height_meters'), f.mean('vis_distance_meters'),\n",
    "                                                        f.mean('atp_hectopascals'))\n",
    "\n",
    "nyc_ghc_2018_sdf = nyc_ghc_2018_sdf.withColumnRenamed('avg(wind_angle_degrees)', 'wind_angle_degrees') \\\n",
    "                                   .withColumnRenamed('avg(wind_speed_mps)', 'wind_speed_mps') \\\n",
    "                                   .withColumnRenamed('avg(air_temp_celsius)', 'air_temp_celsius') \\\n",
    "                                   .withColumnRenamed('avg(dew_temp_celsius)', 'dew_temp_celsius') \\\n",
    "                                   .withColumnRenamed('avg(sky_ceil_height_meters)', 'sky_ceil_height_meters') \\\n",
    "                                   .withColumnRenamed('avg(vis_distance_meters)', 'vis_distance_meters') \\\n",
    "                                   .withColumnRenamed('avg(atp_hectopascals)', 'atp_hectopascals')"
   ]
  },
  {
   "cell_type": "code",
   "execution_count": 24,
   "id": "fa388f1f",
   "metadata": {},
   "outputs": [
    {
     "data": {
      "text/html": [
       "<table border='1'>\n",
       "<tr><th>closest_hour</th><th>wind_angle_degrees</th><th>wind_speed_mps</th><th>air_temp_celsius</th><th>dew_temp_celsius</th><th>sky_ceil_height_meters</th><th>vis_distance_meters</th><th>atp_hectopascals</th></tr>\n",
       "<tr><td>2018-01-01 02:00:00</td><td>256.0</td><td>3.766666666666667</td><td>8.304166666666667</td><td>10.429166666666667</td><td>20078.666666666668</td><td>15792.0</td><td>1021.9208333333332</td></tr>\n",
       "<tr><td>2018-01-03 15:00:00</td><td>217.41666666666666</td><td>1.6583333333333332</td><td>5.611111111111111</td><td>14.390277777777776</td><td>18601.38888888889</td><td>15887.166666666666</td><td>1021.9875000000001</td></tr>\n",
       "<tr><td>2018-01-13 09:00:00</td><td>202.96428571428572</td><td>4.01904761904762</td><td>11.127380952380951</td><td>9.229166666666668</td><td>876.8392857142857</td><td>4544.178571428572</td><td>1015.5845238095236</td></tr>\n",
       "<tr><td>2018-01-14 15:00:00</td><td>260.52777777777777</td><td>3.368055555555556</td><td>6.683333333333334</td><td>16.070833333333336</td><td>20719.11111111111</td><td>15887.166666666666</td><td>1025.5222222222221</td></tr>\n",
       "<tr><td>2018-01-16 08:00:00</td><td>136.25</td><td>1.2041666666666666</td><td>3.6958333333333333</td><td>7.041666666666667</td><td>2103.5</td><td>15792.0</td><td>1023.9958333333334</td></tr>\n",
       "</table>\n"
      ],
      "text/plain": [
       "+-------------------+------------------+------------------+------------------+------------------+----------------------+-------------------+------------------+\n",
       "|       closest_hour|wind_angle_degrees|    wind_speed_mps|  air_temp_celsius|  dew_temp_celsius|sky_ceil_height_meters|vis_distance_meters|  atp_hectopascals|\n",
       "+-------------------+------------------+------------------+------------------+------------------+----------------------+-------------------+------------------+\n",
       "|2018-01-01 02:00:00|             256.0| 3.766666666666667| 8.304166666666667|10.429166666666667|    20078.666666666668|            15792.0|1021.9208333333332|\n",
       "|2018-01-03 15:00:00|217.41666666666666|1.6583333333333332| 5.611111111111111|14.390277777777776|     18601.38888888889| 15887.166666666666|1021.9875000000001|\n",
       "|2018-01-13 09:00:00|202.96428571428572|  4.01904761904762|11.127380952380951| 9.229166666666668|     876.8392857142857|  4544.178571428572|1015.5845238095236|\n",
       "|2018-01-14 15:00:00|260.52777777777777| 3.368055555555556| 6.683333333333334|16.070833333333336|     20719.11111111111| 15887.166666666666|1025.5222222222221|\n",
       "|2018-01-16 08:00:00|            136.25|1.2041666666666666|3.6958333333333333| 7.041666666666667|                2103.5|            15792.0|1023.9958333333334|\n",
       "+-------------------+------------------+------------------+------------------+------------------+----------------------+-------------------+------------------+"
      ]
     },
     "execution_count": 24,
     "metadata": {},
     "output_type": "execute_result"
    }
   ],
   "source": [
    "nyc_ghc_2018_sdf.limit(5)"
   ]
  },
  {
   "cell_type": "code",
   "execution_count": 25,
   "id": "c3076294",
   "metadata": {},
   "outputs": [],
   "source": [
    "from shutil import rmtree\n",
    "from os import path\n",
    "\n",
    "fpath = '../preprocessed_data/nyc_ghc_2018_pre.parquet/'\n",
    "\n",
    "if path.exists(fpath):\n",
    "    rmtree(fpath)\n",
    "        \n",
    "nyc_ghc_2018_sdf.write.format('parquet').save('../preprocessed_data/nyc_ghc_2018_pre.parquet')"
   ]
  },
  {
   "cell_type": "markdown",
   "id": "349f0976",
   "metadata": {},
   "source": [
    "### Local Climatological Data 2019"
   ]
  },
  {
   "cell_type": "code",
   "execution_count": 26,
   "id": "d2eaa96a",
   "metadata": {},
   "outputs": [],
   "source": [
    "ghc_2019_sdf = spark.read.csv('../raw_data/GHC/2019', header=True, inferSchema = True)"
   ]
  },
  {
   "cell_type": "code",
   "execution_count": 27,
   "id": "76802440",
   "metadata": {},
   "outputs": [],
   "source": [
    "# JFK INTERNATIONAL AIRPORT, NY US WBAN: 74486094789\n",
    "# NY CITY CENTRAL PARK, NY US WBAN: 72505394728 \n",
    "# LAGUARDIA AIRPORT, NY US WBAN: 72503014732\n",
    "# LINDEN AIRPORT, NJ US WBAN: 72058100178\n",
    "# NEWARK LIBERTY INTERNATIONAL AIRPORT, NJ US WBAN: 72502014734 \n",
    "\n",
    "nyc_ghc_2019_sdf = ghc_2019_sdf.filter((ghc_2019_sdf.STATION.contains('99727299999')) | # BERGEN POINT\n",
    "                                       (ghc_2019_sdf.STATION.contains('72505394728')) | # CENTRAL PARK\n",
    "                                       (ghc_2019_sdf.STATION.contains('74486094789')) | # JOHN F KENNEDY INTERNATIONAL AIRPORT\n",
    "                                       (ghc_2019_sdf.STATION.contains('99728099999')) | # KINGS POINT\n",
    "                                       (ghc_2019_sdf.STATION.contains('72503014732')) | # LA GUARDIA AIRPORT\n",
    "                                       (ghc_2019_sdf.STATION.contains('72058100178')) | # LINDEN AIRPORT\n",
    "                                       (ghc_2019_sdf.STATION.contains('72502014734')) | # NEWARK LIBERTY INTERNATIONAL AP\n",
    "                                       (ghc_2019_sdf.STATION.contains('72055399999')) | # PORT AUTH DOWNTN MANHATTAN WALL ST HEL\n",
    "                                       (ghc_2019_sdf.STATION.contains('99774399999')) | # ROBBINS REEF\n",
    "                                       (ghc_2019_sdf.STATION.contains('99727199999')))  # THE BATTERY\n",
    "\n",
    "nyc_ghc_2019_sdf = nyc_ghc_2019_sdf.select('DATE', 'WND', 'CIG', 'CIG', \n",
    "                                           'VIS', 'TMP', 'DEW', 'SLP')\n",
    "\n",
    "# WIND OBSERVATION\n",
    "# Split column value with ',' in it\n",
    "# Example, \"9999, 1, N, 99\" string become a list of [\"9999\", \"1\", \"N\", \"99\"]\n",
    "split_col = f.split(nyc_ghc_2019_sdf['WND'], ',')\n",
    "nyc_ghc_2019_sdf = nyc_ghc_2019_sdf.withColumn('wind_angle_degrees', split_col.getItem(0)) \\\n",
    "                                   .withColumn('wind_angle_qcode', split_col.getItem(1)) \\\n",
    "                                   .withColumn('wind_type_code', split_col.getItem(2)) \\\n",
    "                                   .withColumn('wind_speed_mps', split_col.getItem(3)) \\\n",
    "                                   .withColumn('wind_speed_qcode', split_col.getItem(4)) \\\n",
    "                                   .drop('WND')\n",
    "\n",
    "# SKY CONDITION OBSERVATION\n",
    "split_col = f.split(nyc_ghc_2019_sdf['CIG'], ',')\n",
    "nyc_ghc_2019_sdf = nyc_ghc_2019_sdf.withColumn('sky_ceil_height_meters', split_col.getItem(0)) \\\n",
    "                                   .withColumn('sky_ceil_qcode', split_col.getItem(1)) \\\n",
    "                                   .withColumn('sky_ceil_det_code', split_col.getItem(2)) \\\n",
    "                                   .withColumn('sky_cavok', split_col.getItem(3)) \\\n",
    "                                   .drop('CIG')\n",
    "\n",
    "# VISIBILITY OBSERVATION\n",
    "split_col = f.split(nyc_ghc_2019_sdf['VIS'], ',')\n",
    "nyc_ghc_2019_sdf = nyc_ghc_2019_sdf.withColumn('vis_distance_meters', split_col.getItem(0)) \\\n",
    "                                   .withColumn('vis_distance_qcode', split_col.getItem(1)) \\\n",
    "                                   .withColumn('vis_vary_code', split_col.getItem(2)) \\\n",
    "                                   .withColumn('vis_vary_qcode', split_col.getItem(3)) \\\n",
    "                                   .drop('VIS')\n",
    "\n",
    "# AIR TEMP OBSERVATION air\n",
    "split_col = f.split(nyc_ghc_2019_sdf['TMP'], ',')\n",
    "nyc_ghc_2019_sdf = nyc_ghc_2019_sdf.withColumn('air_temp_celsius', split_col.getItem(0)) \\\n",
    "                                   .withColumn('air_temp_qcode', split_col.getItem(1)) \\\n",
    "                                   .drop('TMP')\n",
    "\n",
    "# AIR TEMP OBSERVATION dew\n",
    "split_col = f.split(nyc_ghc_2019_sdf['DEW'], ',')\n",
    "nyc_ghc_2019_sdf = nyc_ghc_2019_sdf.withColumn('dew_point_celsius', split_col.getItem(0)) \\\n",
    "                                   .withColumn('dew_point_qcode', split_col.getItem(1)) \\\n",
    "                                   .drop('DEW')\n",
    "\n",
    "# ATMOSPHERIC PRESSURE OBSERVATION sea level pressure\n",
    "split_col = f.split(nyc_ghc_2019_sdf['SLP'], ',')\n",
    "nyc_ghc_2019_sdf = nyc_ghc_2019_sdf.withColumn('atp_hectopascals', split_col.getItem(0)) \\\n",
    "                                   .withColumn('atp_qcode', split_col.getItem(1)) \\\n",
    "                                   .drop('SLP')"
   ]
  },
  {
   "cell_type": "code",
   "execution_count": 28,
   "id": "2e106f61",
   "metadata": {},
   "outputs": [],
   "source": [
    "nyc_ghc_2019_sdf = nyc_ghc_2019_sdf.withColumn('wind_angle_degrees', f.regexp_replace('wind_angle_degrees', r\"^0+(?!$)\", '')) \\\n",
    "                                   .withColumn('wind_speed_mps', f.regexp_replace('wind_speed_mps', r\"^0+(?!$)\", '')) \\\n",
    "                                   .withColumn('sky_ceil_height_meters', f.regexp_replace('sky_ceil_height_meters', r\"^0+(?!$)\", '')) \\\n",
    "                                   .withColumn('vis_distance_meters', f.regexp_replace('vis_distance_meters', r\"^0+(?!$)\", '')) \\\n",
    "                                   .withColumn('air_temp_celsius', f.regexp_replace('air_temp_celsius', r\"(^\\+)|(^\\-)?0+(?!$)\", '')) \\\n",
    "                                   .withColumn('dew_point_celsius', f.regexp_replace('dew_point_celsius', r\"(^\\+)|(^\\-)?0+(?!$)\", '')) \\\n",
    "                                   .withColumn('atp_hectopascals', f.regexp_replace('atp_hectopascals', r\"^0+(?!$)\", ''))"
   ]
  },
  {
   "cell_type": "markdown",
   "id": "496c1a2a",
   "metadata": {},
   "source": [
    " #### Setting Schema"
   ]
  },
  {
   "cell_type": "code",
   "execution_count": 29,
   "id": "1cc60a11",
   "metadata": {},
   "outputs": [],
   "source": [
    "from shutil import rmtree\n",
    "from os import path\n",
    "\n",
    "fpath = '../preprocessed_data/nyc_ghc_2019'\n",
    "\n",
    "if path.exists(fpath):\n",
    "    rmtree(fpath)\n",
    "        \n",
    "nyc_ghc_2019_sdf.write.option(\"header\", True).csv(\"../preprocessed_data/nyc_ghc_2019\")"
   ]
  },
  {
   "cell_type": "code",
   "execution_count": 30,
   "id": "af560515",
   "metadata": {},
   "outputs": [
    {
     "name": "stdout",
     "output_type": "stream",
     "text": [
      "root\n",
      " |-- DATE: timestamp (nullable = true)\n",
      " |-- wind_angle_degrees: integer (nullable = true)\n",
      " |-- wind_angle_qcode: string (nullable = true)\n",
      " |-- wind_type_code: string (nullable = true)\n",
      " |-- wind_speed_mps: integer (nullable = true)\n",
      " |-- wind_speed_qcode: string (nullable = true)\n",
      " |-- sky_ceil_height_meters: integer (nullable = true)\n",
      " |-- sky_ceil_qcode: string (nullable = true)\n",
      " |-- sky_ceil_det_code: string (nullable = true)\n",
      " |-- sky_cavok: string (nullable = true)\n",
      " |-- vis_distance_meters: integer (nullable = true)\n",
      " |-- vis_distance_qcode: string (nullable = true)\n",
      " |-- vis_vary_code: string (nullable = true)\n",
      " |-- vis_vary_qcode: string (nullable = true)\n",
      " |-- air_temp_celsius: integer (nullable = true)\n",
      " |-- air_temp_qcode: string (nullable = true)\n",
      " |-- dew_point_celsius: integer (nullable = true)\n",
      " |-- dew_point_qcode: string (nullable = true)\n",
      " |-- atp_hectopascals: integer (nullable = true)\n",
      " |-- atp_qcode: string (nullable = true)\n",
      "\n"
     ]
    }
   ],
   "source": [
    "nyc_ghc_2019_sdf = spark.read.csv('../preprocessed_data/nyc_ghc_2019/', header = True)\n",
    "\n",
    "ints = ('wind_angle_degrees', 'wind_speed_mps', 'sky_ceil_height_meters', 'vis_distance_meters', \n",
    "        'air_temp_celsius', 'dew_point_celsius', 'atp_hectopascals')\n",
    "\n",
    "strings = ('wind_angle_qcode', 'wind_type_code', 'wind_speed_qcode', 'sky_ceil_qcode',\n",
    "           'sky_ceil_det_code', 'sky_cavok', 'vis_distance_qcode', 'vis_vary_code', \n",
    "           'vis_vary_qcode', 'air_temp_qcode', 'dew_point_qcode', 'atp_qcode')\n",
    "\n",
    "dtimes = ('DATE',)\n",
    "\n",
    "dtypes = {column: IntegerType() for column in ints}\n",
    "dtypes.update({column: StringType() for column in strings})\n",
    "dtypes.update({column: TimestampType() for column in dtimes})\n",
    "\n",
    "schema = StructType()\n",
    "\n",
    "for column in nyc_ghc_2019_sdf.columns:\n",
    "    schema.add(column, # column name\n",
    "               dtypes[column], # data type\n",
    "               True # is nullable?\n",
    "              )\n",
    "    \n",
    "nyc_ghc_2019_sdf = spark.read.csv('../preprocessed_data/nyc_ghc_2019/', header = True, schema = schema)\n",
    "nyc_ghc_2019_sdf.printSchema()"
   ]
  },
  {
   "cell_type": "code",
   "execution_count": 31,
   "id": "8b904302",
   "metadata": {},
   "outputs": [],
   "source": [
    "from pyspark.sql.functions import col,when\n",
    "\n",
    "nyc_ghc_2019_sdf = nyc_ghc_2019_sdf.withColumn(\"wind_angle_degrees\", \n",
    "                            when(nyc_ghc_2019_sdf[\"wind_angle_degrees\"] == '999',None) \\\n",
    "                            .otherwise(nyc_ghc_2019_sdf[\"wind_angle_degrees\"]))\n",
    "\n",
    "nyc_ghc_2019_sdf = nyc_ghc_2019_sdf.withColumn(\"wind_speed_mps\", \n",
    "                            when(nyc_ghc_2019_sdf[\"wind_speed_mps\"] == '9999',None) \\\n",
    "                            .otherwise(nyc_ghc_2019_sdf[\"wind_speed_mps\"]))\n",
    "\n",
    "nyc_ghc_2019_sdf = nyc_ghc_2019_sdf.withColumn(\"air_temp_celsius\", \n",
    "                            when(nyc_ghc_2019_sdf[\"air_temp_celsius\"] == '9999',None) \\\n",
    "                            .otherwise(nyc_ghc_2019_sdf[\"air_temp_celsius\"]))\n",
    "\n",
    "nyc_ghc_2019_sdf = nyc_ghc_2019_sdf.withColumn(\"dew_point_celsius\", \n",
    "                            when(nyc_ghc_2019_sdf[\"dew_point_celsius\"] == '9999',None) \\\n",
    "                            .otherwise(nyc_ghc_2019_sdf[\"dew_point_celsius\"]))\n",
    "\n",
    "nyc_ghc_2019_sdf = nyc_ghc_2019_sdf.withColumn(\"sky_ceil_height_meters\", \n",
    "                            when(nyc_ghc_2019_sdf[\"sky_ceil_height_meters\"] == '99999',None) \\\n",
    "                            .otherwise(nyc_ghc_2019_sdf[\"sky_ceil_height_meters\"]))\n",
    "\n",
    "nyc_ghc_2019_sdf = nyc_ghc_2019_sdf.withColumn(\"atp_hectopascals\", \n",
    "                            when(nyc_ghc_2019_sdf[\"atp_hectopascals\"] == '99999',None) \\\n",
    "                            .otherwise(nyc_ghc_2019_sdf[\"atp_hectopascals\"]))\n",
    "\n",
    "nyc_ghc_2019_sdf = nyc_ghc_2019_sdf.withColumn(\"vis_distance_meters\", \n",
    "                            when(nyc_ghc_2019_sdf[\"vis_distance_meters\"] == '999999',None) \\\n",
    "                            .otherwise(nyc_ghc_2019_sdf[\"vis_distance_meters\"]))"
   ]
  },
  {
   "cell_type": "code",
   "execution_count": 32,
   "id": "80c34c49",
   "metadata": {},
   "outputs": [],
   "source": [
    "from pyspark.ml.feature import Imputer\n",
    "\n",
    "imputer = Imputer(inputCols = ['wind_angle_degrees', \"wind_speed_mps\", \"air_temp_celsius\", \n",
    "                              \"dew_point_celsius\", \"sky_ceil_height_meters\", \"atp_hectopascals\", \n",
    "                               \"vis_distance_meters\"],\n",
    "                  outputCols = [\"{}_imputed\".format(c) \n",
    "                                for c in ['wind_angle_degrees', \"wind_speed_mps\", \"air_temp_celsius\", \n",
    "                                          \"dew_point_celsius\", \"sky_ceil_height_meters\", \"atp_hectopascals\", \n",
    "                                           \"vis_distance_meters\"]]\n",
    "                 ).setStrategy(\"mean\")\n",
    "\n",
    "nyc_ghc_2019_sdf = imputer.fit(nyc_ghc_2019_sdf).transform(nyc_ghc_2019_sdf)"
   ]
  },
  {
   "cell_type": "code",
   "execution_count": 33,
   "id": "d81ed8d4",
   "metadata": {},
   "outputs": [],
   "source": [
    "nyc_ghc_2019_sdf = nyc_ghc_2019_sdf.select('DATE', 'wind_angle_degrees_imputed', \n",
    "                                           'wind_speed_mps_imputed', 'air_temp_celsius_imputed', \n",
    "                                           'dew_point_celsius_imputed', 'sky_ceil_height_meters_imputed', \n",
    "                                           'atp_hectopascals_imputed', 'vis_distance_meters_imputed')"
   ]
  },
  {
   "cell_type": "code",
   "execution_count": 34,
   "id": "f8fc211b",
   "metadata": {},
   "outputs": [],
   "source": [
    "# Filter through the minimum and maximum set in the dictionary\n",
    "nyc_ghc_2019_sdf = nyc_ghc_2019_sdf.filter('wind_angle_degrees_imputed >= 0 and wind_angle_degrees_imputed <= 360') \\\n",
    "                                    .filter('wind_speed_mps_imputed >= 0 and wind_speed_mps_imputed <= 900') \\\n",
    "                                    .filter('air_temp_celsius_imputed >= -932 and air_temp_celsius_imputed <= 618') \\\n",
    "                                    .filter('dew_point_celsius_imputed >= -982 and dew_point_celsius_imputed <= 368') \\\n",
    "                                    .filter('sky_ceil_height_meters_imputed >= 0 and sky_ceil_height_meters_imputed <= 22000') \\\n",
    "                                    .filter('atp_hectopascals_imputed >= 8600 and atp_hectopascals_imputed <= 10900') \\\n",
    "                                    .filter('vis_distance_meters_imputed >= 0 and vis_distance_meters_imputed <= 160000')"
   ]
  },
  {
   "cell_type": "code",
   "execution_count": 35,
   "id": "48e4db93",
   "metadata": {},
   "outputs": [],
   "source": [
    "# Descaling some features given in the dictionary\n",
    "# Wind speed scaled by 10 \n",
    "# Air temp scaled by 10\n",
    "# Dew point scaled by 10\n",
    "# ATP scaled by 10\n",
    "# All descaled by 10\n",
    "\n",
    "nyc_ghc_2019_sdf = nyc_ghc_2019_sdf.withColumn('wind_speed_mps', nyc_ghc_2019_sdf['wind_speed_mps_imputed'] / 10) \\\n",
    "                                    .withColumn('air_temp_celsius', nyc_ghc_2019_sdf['air_temp_celsius_imputed'] / 10) \\\n",
    "                                    .withColumn('dew_temp_celsius', nyc_ghc_2019_sdf['dew_point_celsius_imputed'] / 10) \\\n",
    "                                    .withColumn('atp_hectopascals', nyc_ghc_2019_sdf['atp_hectopascals_imputed'] / 10)"
   ]
  },
  {
   "cell_type": "code",
   "execution_count": 36,
   "id": "f2a132fb",
   "metadata": {},
   "outputs": [],
   "source": [
    "# Renaming and drop columns\n",
    "nyc_ghc_2019_sdf = nyc_ghc_2019_sdf.withColumnRenamed('wind_angle_degrees_imputed', 'wind_angle_degrees') \\\n",
    "                                   .withColumnRenamed('sky_ceil_height_meters_imputed', 'sky_ceil_height_meters') \\\n",
    "                                   .withColumnRenamed('vis_distance_meters_imputed', 'vis_distance_meters')\n",
    "\n",
    "nyc_ghc_2019_sdf = nyc_ghc_2019_sdf.drop('wind_speed_mps_imputed', 'air_temp_celsius_imputed', \n",
    "                                         'dew_point_celsius_imputed', 'atp_hectopascals_imputed')\n",
    "\n",
    "# Reorder columns\n",
    "nyc_ghc_2019_sdf = nyc_ghc_2019_sdf.select('DATE', 'wind_angle_degrees', \n",
    "                                           'wind_speed_mps', 'air_temp_celsius', \n",
    "                                           'dew_temp_celsius','sky_ceil_height_meters', \n",
    "                                           'vis_distance_meters', 'atp_hectopascals')\n",
    "\n",
    "nyc_ghc_2019_sdf = nyc_ghc_2019_sdf.orderBy('DATE')"
   ]
  },
  {
   "cell_type": "code",
   "execution_count": 37,
   "id": "e3013ac7",
   "metadata": {},
   "outputs": [],
   "source": [
    "nyc_ghc_2019_sdf = nyc_ghc_2019_sdf.groupBy('DATE').agg(f.mean('wind_angle_degrees'), f.mean('wind_speed_mps'),\n",
    "                                                        f.mean('air_temp_celsius'), f.mean('dew_temp_celsius'),\n",
    "                                                        f.mean('sky_ceil_height_meters'), f.mean('vis_distance_meters'), \n",
    "                                                        f.mean('atp_hectopascals')).orderBy('Date')"
   ]
  },
  {
   "cell_type": "code",
   "execution_count": 38,
   "id": "fa54b6c4",
   "metadata": {},
   "outputs": [],
   "source": [
    "nyc_ghc_2019_sdf = nyc_ghc_2019_sdf.withColumnRenamed('avg(wind_angle_degrees)', 'wind_angle_degrees') \\\n",
    "                                   .withColumnRenamed('avg(wind_speed_mps)', 'wind_speed_mps') \\\n",
    "                                   .withColumnRenamed('avg(air_temp_celsius)', 'air_temp_celsius') \\\n",
    "                                   .withColumnRenamed('avg(dew_temp_celsius)', 'dew_temp_celsius') \\\n",
    "                                   .withColumnRenamed('avg(sky_ceil_height_meters)', 'sky_ceil_height_meters') \\\n",
    "                                   .withColumnRenamed('avg(vis_distance_meters)', 'vis_distance_meters') \\\n",
    "                                   .withColumnRenamed('avg(atp_hectopascals)', 'atp_hectopascals')"
   ]
  },
  {
   "cell_type": "code",
   "execution_count": 39,
   "id": "d60dfe00",
   "metadata": {},
   "outputs": [],
   "source": [
    "nyc_ghc_2019_sdf = nyc_ghc_2019_sdf.withColumn(\"closest_hour\", f.date_trunc(\"hour\", f.col(\"DATE\")))"
   ]
  },
  {
   "cell_type": "code",
   "execution_count": 40,
   "id": "4a2f04c0",
   "metadata": {},
   "outputs": [],
   "source": [
    "nyc_ghc_2019_sdf = nyc_ghc_2019_sdf.groupBy(\"closest_hour\").agg(f.mean('wind_angle_degrees'), f.mean('wind_speed_mps'),\n",
    "                                                        f.mean('air_temp_celsius'), f.mean('dew_temp_celsius'),\n",
    "                                                        f.mean('sky_ceil_height_meters'), f.mean('vis_distance_meters'),\n",
    "                                                        f.mean('atp_hectopascals'))\n",
    "\n",
    "nyc_ghc_2019_sdf = nyc_ghc_2019_sdf.withColumnRenamed('avg(wind_angle_degrees)', 'wind_angle_degrees') \\\n",
    "                                   .withColumnRenamed('avg(wind_speed_mps)', 'wind_speed_mps') \\\n",
    "                                   .withColumnRenamed('avg(air_temp_celsius)', 'air_temp_celsius') \\\n",
    "                                   .withColumnRenamed('avg(dew_temp_celsius)', 'dew_temp_celsius') \\\n",
    "                                   .withColumnRenamed('avg(sky_ceil_height_meters)', 'sky_ceil_height_meters') \\\n",
    "                                   .withColumnRenamed('avg(vis_distance_meters)', 'vis_distance_meters') \\\n",
    "                                   .withColumnRenamed('avg(atp_hectopascals)', 'atp_hectopascals')"
   ]
  },
  {
   "cell_type": "code",
   "execution_count": 41,
   "id": "16e5af85",
   "metadata": {},
   "outputs": [],
   "source": [
    "from shutil import rmtree\n",
    "from os import path\n",
    "\n",
    "fpath = '../preprocessed_data/nyc_ghc_2019_pre.parquet/'\n",
    "\n",
    "if path.exists(fpath):\n",
    "    rmtree(fpath)\n",
    "        \n",
    "nyc_ghc_2019_sdf.write.format('parquet').save('../preprocessed_data/nyc_ghc_2019_pre.parquet')"
   ]
  },
  {
   "cell_type": "code",
   "execution_count": 42,
   "id": "0ef08378",
   "metadata": {},
   "outputs": [
    {
     "data": {
      "text/html": [
       "<table border='1'>\n",
       "<tr><th>closest_hour</th><th>wind_angle_degrees</th><th>wind_speed_mps</th><th>air_temp_celsius</th><th>dew_temp_celsius</th><th>sky_ceil_height_meters</th><th>vis_distance_meters</th><th>atp_hectopascals</th></tr>\n",
       "<tr><td>2019-01-01 06:00:00</td><td>203.33035714285714</td><td>0.9401785714285715</td><td>6.775</td><td>7.761607142857143</td><td>1597.875</td><td>6314.366071428572</td><td>1012.9821428571429</td></tr>\n",
       "<tr><td>2019-01-18 05:00:00</td><td>129.96875</td><td>1.7249999999999999</td><td>0.47500000000000003</td><td>5.746875</td><td>2243.0</td><td>10891.90625</td><td>1019.4375000000001</td></tr>\n",
       "<tr><td>2019-01-30 04:00:00</td><td>255.01923076923077</td><td>4.509615384615385</td><td>2.3500000000000005</td><td>1.948076923076923</td><td>3772.9423076923076</td><td>14612.384615384615</td><td>1015.4403846153848</td></tr>\n",
       "<tr><td>2019-01-31 10:00:00</td><td>274.7083333333333</td><td>5.420833333333333</td><td>15.858333333333334</td><td>19.5</td><td>20231.833333333332</td><td>15796.5</td><td>1022.5916666666668</td></tr>\n",
       "<tr><td>2019-02-02 05:00:00</td><td>223.95833333333334</td><td>1.2291666666666667</td><td>5.791666666666668</td><td>14.25</td><td>20231.833333333332</td><td>15796.5</td><td>1023.3125</td></tr>\n",
       "</table>\n"
      ],
      "text/plain": [
       "+-------------------+------------------+------------------+-------------------+-----------------+----------------------+-------------------+------------------+\n",
       "|       closest_hour|wind_angle_degrees|    wind_speed_mps|   air_temp_celsius| dew_temp_celsius|sky_ceil_height_meters|vis_distance_meters|  atp_hectopascals|\n",
       "+-------------------+------------------+------------------+-------------------+-----------------+----------------------+-------------------+------------------+\n",
       "|2019-01-01 06:00:00|203.33035714285714|0.9401785714285715|              6.775|7.761607142857143|              1597.875|  6314.366071428572|1012.9821428571429|\n",
       "|2019-01-18 05:00:00|         129.96875|1.7249999999999999|0.47500000000000003|         5.746875|                2243.0|        10891.90625|1019.4375000000001|\n",
       "|2019-01-30 04:00:00|255.01923076923077| 4.509615384615385| 2.3500000000000005|1.948076923076923|    3772.9423076923076| 14612.384615384615|1015.4403846153848|\n",
       "|2019-01-31 10:00:00| 274.7083333333333| 5.420833333333333| 15.858333333333334|             19.5|    20231.833333333332|            15796.5|1022.5916666666668|\n",
       "|2019-02-02 05:00:00|223.95833333333334|1.2291666666666667|  5.791666666666668|            14.25|    20231.833333333332|            15796.5|         1023.3125|\n",
       "+-------------------+------------------+------------------+-------------------+-----------------+----------------------+-------------------+------------------+"
      ]
     },
     "execution_count": 42,
     "metadata": {},
     "output_type": "execute_result"
    }
   ],
   "source": [
    "nyc_ghc_2019_sdf.limit(5)"
   ]
  }
 ],
 "metadata": {
  "kernelspec": {
   "display_name": "Python 3",
   "language": "python",
   "name": "python3"
  },
  "language_info": {
   "codemirror_mode": {
    "name": "ipython",
    "version": 3
   },
   "file_extension": ".py",
   "mimetype": "text/x-python",
   "name": "python",
   "nbconvert_exporter": "python",
   "pygments_lexer": "ipython3",
   "version": "3.9.7"
  },
  "varInspector": {
   "cols": {
    "lenName": 16,
    "lenType": 16,
    "lenVar": 40
   },
   "kernels_config": {
    "python": {
     "delete_cmd_postfix": "",
     "delete_cmd_prefix": "del ",
     "library": "var_list.py",
     "varRefreshCmd": "print(var_dic_list())"
    },
    "r": {
     "delete_cmd_postfix": ") ",
     "delete_cmd_prefix": "rm(",
     "library": "var_list.r",
     "varRefreshCmd": "cat(var_dic_list()) "
    }
   },
   "types_to_exclude": [
    "module",
    "function",
    "builtin_function_or_method",
    "instance",
    "_Feature"
   ],
   "window_display": false
  }
 },
 "nbformat": 4,
 "nbformat_minor": 5
}
