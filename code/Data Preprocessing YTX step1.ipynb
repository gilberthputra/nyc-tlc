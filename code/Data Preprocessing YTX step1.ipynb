{
 "cells": [
  {
   "cell_type": "markdown",
   "id": "ab3d1585",
   "metadata": {},
   "source": [
    "# Data Preprocessing YTX Step 1"
   ]
  },
  {
   "cell_type": "markdown",
   "id": "b92769cd",
   "metadata": {},
   "source": [
    "#### Yellow Taxi Data Dictionary\n",
    "Taken from : __[YTX data dictionary](https://www1.nyc.gov/assets/tlc/downloads/pdf/data_dictionary_trip_records_yellow.pdf)__\n",
    "1. __*VendorID*__ : A code indicating the TPEP provider that provided the record.\n",
    "    * 1= Creative Mobile Technologies, LLC; 2= VeriFone Inc.\n",
    "1. __*tpep_pickup_datetime*__ : The date and time when the meter was engaged.\n",
    "1. __*tpep_dropoff_datetime*__ : The date and time when the meter was disengaged.\n",
    "1. __*Passenger_count*__ : The number of passengers in the vehicle.\n",
    "    * This is a driver-entered value.\n",
    "1. __*Trip_distance*__ : The elapsed trip distance in miles reported by the taximeter.\n",
    "1. __*RateCodeID*__ : The final rate code in effect at the end of the trip.\n",
    "    * 1 = Standard rate, 2 = JFK, 3 = Newark, 4 = Nassau or Westchester, 5 = Negotiated fare, 6 = Group ride\n",
    "1. __*Store_and_fwd_flag*__ : This flag indicates whether the trip record was held in vehicle memory before sending to the vendor, aka “store and forward,” because the vehicle did not have a connection to the server.\n",
    "    * Y = 1.0 = store and forward trip, N = 0.0 = not a store and forward trip\n",
    "1. __*PULocationID*__ : Pickup Location ID where the meter was engaged. \n",
    "1. __*DOLocationID*__ : Dropoff Location ID where the meter was disengaged.\n",
    "1. __*Payment_type*__ : A numeric code signifying how the passenger paid for the trip.\n",
    "    * 1 = Credit card, 2 = Cash, 3 = No charge, 4 = Dispute, 5 = Unknown, 6 = Voided trip\n",
    "1. __*Fare_amount*__ : The time-and-distance fare calculated by the meter.\n",
    "1. __*Extra*__ : Miscellaneous extras and surcharges. Currently, this only includes the \\\\$0.50 and \\\\$1 rush hour and overnight charges.\n",
    "1. __*MTA_tax*__ : \\\\$0.50 MTA tax that is automatically triggered based on the metered rate in use.\n",
    "1. __*Improvement_surcharge*__ : \\\\$0.30 improvement surcharge assessed trips at the flag drop. The improvement surcharge began being levied in 2015.\n",
    "1. __*Tip_amount*__ : Tip amount – This field is automatically populated for credit card tips. Cash tips are not included.\n",
    "1. __*Tolls_amount*__ : Total amount of all tolls paid in trip.\n",
    "1. __*Total_amount*__ : The total amount charged to passengers. Does not include cash tips.\n",
    "\n",
    "___"
   ]
  },
  {
   "cell_type": "code",
   "execution_count": 1,
   "id": "5d4586bf",
   "metadata": {},
   "outputs": [
    {
     "data": {
      "text/html": [
       "\n",
       "            <div>\n",
       "                <p><b>SparkSession - in-memory</b></p>\n",
       "                \n",
       "        <div>\n",
       "            <p><b>SparkContext</b></p>\n",
       "\n",
       "            <p><a href=\"http://172.30.147.127:4041\">Spark UI</a></p>\n",
       "\n",
       "            <dl>\n",
       "              <dt>Version</dt>\n",
       "                <dd><code>v3.2.0</code></dd>\n",
       "              <dt>Master</dt>\n",
       "                <dd><code>local[*]</code></dd>\n",
       "              <dt>AppName</dt>\n",
       "                <dd><code>Data Preprocessing Step 1</code></dd>\n",
       "            </dl>\n",
       "        </div>\n",
       "        \n",
       "            </div>\n",
       "        "
      ],
      "text/plain": [
       "<pyspark.sql.session.SparkSession at 0x7f90c4565fd0>"
      ]
     },
     "execution_count": 1,
     "metadata": {},
     "output_type": "execute_result"
    }
   ],
   "source": [
    "import pyspark.sql.functions as f\n",
    "from pyspark.sql import SparkSession\n",
    "from pyspark import SparkContext\n",
    "from pyspark.sql.types import *\n",
    "\n",
    "import warnings\n",
    "warnings.filterwarnings(\"ignore\")\n",
    "\n",
    "#sc = SparkContext.getOrCreate(conf=swan_spark_conf) \n",
    "spark = SparkSession.builder.appName('Data Preprocessing Step 1').getOrCreate()\n",
    "spark"
   ]
  },
  {
   "cell_type": "code",
   "execution_count": 2,
   "id": "395473e3",
   "metadata": {},
   "outputs": [],
   "source": [
    "spark.conf.set(\"spark.sql.execution.arrow.pyspark.enabled\", \"true\")\n",
    "spark.conf.set(\"spark.sql.legacy.timeParserPolicy\",\"LEGACY\")\n",
    "spark.conf.set('spark.sql.repl.eagerEval.enabled', True)"
   ]
  },
  {
   "cell_type": "markdown",
   "id": "51fd4df7",
   "metadata": {},
   "source": [
    "### Yellow Taxi (2018)\n",
    "#### Setting Schema"
   ]
  },
  {
   "cell_type": "code",
   "execution_count": 3,
   "id": "7aac3d60",
   "metadata": {},
   "outputs": [],
   "source": [
    "ytx_2018_sdf = spark.read.csv('../raw_data/YTX/2018', header=True)"
   ]
  },
  {
   "cell_type": "code",
   "execution_count": 4,
   "id": "8d831406",
   "metadata": {},
   "outputs": [],
   "source": [
    "ints = ('VendorID', 'passenger_count', 'RateCodeID', 'RatecodeID'\n",
    "        ,'payment_type', 'PULocationID', 'DOLocationID')\n",
    "\n",
    "doubles = ('trip_distance', 'fare_amount', 'extra', 'mta_tax', 'tip_amount', \n",
    "           'tolls_amount', 'improvement_surcharge', 'total_amount')\n",
    "\n",
    "strings = ('store_and_fwd_flag',)\n",
    "\n",
    "dtimes = ('tpep_pickup_datetime', 'tpep_dropoff_datetime', )\n",
    "\n",
    "dtypes = {column: IntegerType() for column in ints}\n",
    "dtypes.update({column: DoubleType() for column in doubles})\n",
    "dtypes.update({column: StringType() for column in strings})\n",
    "dtypes.update({column: TimestampType() for column in dtimes})"
   ]
  },
  {
   "cell_type": "code",
   "execution_count": 5,
   "id": "d17c5ef1",
   "metadata": {},
   "outputs": [],
   "source": [
    "schema = StructType()\n",
    "\n",
    "for column in ytx_2018_sdf.columns:\n",
    "    schema.add(column, # column name\n",
    "               dtypes[column], # data type\n",
    "               True # is nullable?\n",
    "              )"
   ]
  },
  {
   "cell_type": "code",
   "execution_count": 6,
   "id": "b375d1fb",
   "metadata": {},
   "outputs": [
    {
     "name": "stdout",
     "output_type": "stream",
     "text": [
      "root\n",
      " |-- VendorID: integer (nullable = true)\n",
      " |-- tpep_pickup_datetime: timestamp (nullable = true)\n",
      " |-- tpep_dropoff_datetime: timestamp (nullable = true)\n",
      " |-- passenger_count: integer (nullable = true)\n",
      " |-- trip_distance: double (nullable = true)\n",
      " |-- RateCodeID: integer (nullable = true)\n",
      " |-- store_and_fwd_flag: string (nullable = true)\n",
      " |-- PULocationID: integer (nullable = true)\n",
      " |-- DOLocationID: integer (nullable = true)\n",
      " |-- payment_type: integer (nullable = true)\n",
      " |-- fare_amount: double (nullable = true)\n",
      " |-- extra: double (nullable = true)\n",
      " |-- mta_tax: double (nullable = true)\n",
      " |-- tip_amount: double (nullable = true)\n",
      " |-- tolls_amount: double (nullable = true)\n",
      " |-- improvement_surcharge: double (nullable = true)\n",
      " |-- total_amount: double (nullable = true)\n",
      "\n"
     ]
    }
   ],
   "source": [
    "ytx_2018_sdf = spark.read.csv('../raw_data/YTX/2018', header = True, schema = schema) \\\n",
    "    .withColumnRenamed(\"RatecodeID\",\"RateCodeID\") # rename the wrong column\n",
    "\n",
    "ytx_2018_sdf.printSchema()"
   ]
  },
  {
   "cell_type": "code",
   "execution_count": 7,
   "id": "ced3b64a",
   "metadata": {},
   "outputs": [
    {
     "data": {
      "text/html": [
       "<table border='1'>\n",
       "<tr><th>VendorID</th><th>tpep_pickup_datetime</th><th>tpep_dropoff_datetime</th><th>passenger_count</th><th>trip_distance</th><th>RateCodeID</th><th>store_and_fwd_flag</th><th>PULocationID</th><th>DOLocationID</th><th>payment_type</th><th>fare_amount</th><th>extra</th><th>mta_tax</th><th>tip_amount</th><th>tolls_amount</th><th>improvement_surcharge</th><th>total_amount</th></tr>\n",
       "<tr><td>0</td><td>0</td><td>0</td><td>0</td><td>0</td><td>0</td><td>0</td><td>0</td><td>0</td><td>0</td><td>0</td><td>0</td><td>0</td><td>0</td><td>0</td><td>0</td><td>0</td></tr>\n",
       "</table>\n"
      ],
      "text/plain": [
       "+--------+--------------------+---------------------+---------------+-------------+----------+------------------+------------+------------+------------+-----------+-----+-------+----------+------------+---------------------+------------+\n",
       "|VendorID|tpep_pickup_datetime|tpep_dropoff_datetime|passenger_count|trip_distance|RateCodeID|store_and_fwd_flag|PULocationID|DOLocationID|payment_type|fare_amount|extra|mta_tax|tip_amount|tolls_amount|improvement_surcharge|total_amount|\n",
       "+--------+--------------------+---------------------+---------------+-------------+----------+------------------+------------+------------+------------+-----------+-----+-------+----------+------------+---------------------+------------+\n",
       "|       0|                   0|                    0|              0|            0|         0|                 0|           0|           0|           0|          0|    0|      0|         0|           0|                    0|           0|\n",
       "+--------+--------------------+---------------------+---------------+-------------+----------+------------------+------------+------------+------------+-----------+-----+-------+----------+------------+---------------------+------------+"
      ]
     },
     "execution_count": 7,
     "metadata": {},
     "output_type": "execute_result"
    }
   ],
   "source": [
    "from pyspark.sql.functions import isnan, when, count, col\n",
    "\n",
    "ytx_2018_sdf.select([count(when(col(c).isNull(), c)).alias(c) for c in ytx_2018_sdf.columns]).limit(1)"
   ]
  },
  {
   "cell_type": "markdown",
   "id": "e0d20bb0",
   "metadata": {},
   "source": [
    "> No missing values was found!"
   ]
  },
  {
   "cell_type": "code",
   "execution_count": 8,
   "id": "530927f1",
   "metadata": {},
   "outputs": [],
   "source": [
    "ytx_2018_sdf.limit(5)\n",
    "original_count = ytx_2018_sdf.count()"
   ]
  },
  {
   "cell_type": "markdown",
   "id": "1c17fe66",
   "metadata": {},
   "source": [
    "> As we see from the dictionary that `store_and_fwd_flag` can be said to be boolean type (Yes or No), which we will convert here to True and False as it is currently in string type."
   ]
  },
  {
   "cell_type": "code",
   "execution_count": 9,
   "id": "e93b4c6d",
   "metadata": {},
   "outputs": [],
   "source": [
    "ytx_2018_sdf = ytx_2018_sdf.withColumn(\"store_and_fwd_flag\", \n",
    "                                             (ytx_2018_sdf[\"store_and_fwd_flag\"] == 'Y') \\\n",
    "                                             .cast(\"boolean\"))"
   ]
  },
  {
   "cell_type": "code",
   "execution_count": 10,
   "id": "9cfd7d57",
   "metadata": {},
   "outputs": [
    {
     "name": "stdout",
     "output_type": "stream",
     "text": [
      "root\n",
      " |-- VendorID: integer (nullable = true)\n",
      " |-- tpep_pickup_datetime: timestamp (nullable = true)\n",
      " |-- tpep_dropoff_datetime: timestamp (nullable = true)\n",
      " |-- passenger_count: integer (nullable = true)\n",
      " |-- trip_distance: double (nullable = true)\n",
      " |-- RateCodeID: integer (nullable = true)\n",
      " |-- store_and_fwd_flag: boolean (nullable = true)\n",
      " |-- PULocationID: integer (nullable = true)\n",
      " |-- DOLocationID: integer (nullable = true)\n",
      " |-- payment_type: integer (nullable = true)\n",
      " |-- fare_amount: double (nullable = true)\n",
      " |-- extra: double (nullable = true)\n",
      " |-- mta_tax: double (nullable = true)\n",
      " |-- tip_amount: double (nullable = true)\n",
      " |-- tolls_amount: double (nullable = true)\n",
      " |-- improvement_surcharge: double (nullable = true)\n",
      " |-- total_amount: double (nullable = true)\n",
      "\n"
     ]
    }
   ],
   "source": [
    "ytx_2018_sdf.printSchema()"
   ]
  },
  {
   "cell_type": "code",
   "execution_count": 11,
   "id": "33a20d82",
   "metadata": {},
   "outputs": [
    {
     "data": {
      "text/html": [
       "<table border='1'>\n",
       "<tr><th>summary</th><th>VendorID</th><th>passenger_count</th><th>trip_distance</th><th>RateCodeID</th><th>PULocationID</th><th>DOLocationID</th><th>payment_type</th><th>fare_amount</th><th>extra</th><th>mta_tax</th><th>tip_amount</th><th>tolls_amount</th><th>improvement_surcharge</th><th>total_amount</th></tr>\n",
       "<tr><td>count</td><td>102804250</td><td>102804250</td><td>102804250</td><td>102804250</td><td>102804250</td><td>102804250</td><td>102804250</td><td>102804250</td><td>102804250</td><td>102804250</td><td>102804250</td><td>102804250</td><td>102804250</td><td>102804250</td></tr>\n",
       "<tr><td>mean</td><td>1.5917952419282277</td><td>1.5949764333672976</td><td>2.935368240515281</td><td>1.0501113718547628</td><td>163.1976826833521</td><td>161.42923143741626</td><td>1.3139463300398573</td><td>13.060032438153184</td><td>0.33070590924013327</td><td>0.49713522106333163</td><td>1.8747264632543357</td><td>0.34687786127552644</td><td>0.299587523659946</td><td>16.412771868007482</td></tr>\n",
       "<tr><td>stddev</td><td>0.5198787068970184</td><td>1.2412303351510654</td><td>19.126793016573206</td><td>0.7578954227329817</td><td>66.53010479123175</td><td>70.41625751123695</td><td>0.4844298740802132</td><td>150.83157884972647</td><td>0.4660741653145101</td><td>0.05022877093569929</td><td>2.6117606925611883</td><td>1.7916384543455615</td><td>0.4933835174627733</td><td>151.07475384454816</td></tr>\n",
       "<tr><td>min</td><td>1</td><td>0</td><td>0.0</td><td>1</td><td>1</td><td>1</td><td>1</td><td>-800.0</td><td>-80.0</td><td>-0.5</td><td>-322.42</td><td>-52.5</td><td>-0.3</td><td>-800.3</td></tr>\n",
       "<tr><td>max</td><td>4</td><td>192</td><td>189483.84</td><td>99</td><td>265</td><td>265</td><td>5</td><td>907070.24</td><td>96.64</td><td>150.0</td><td>945.97</td><td>1650.0</td><td>4000.3</td><td>907071.04</td></tr>\n",
       "</table>\n"
      ],
      "text/plain": [
       "+-------+------------------+------------------+------------------+------------------+-----------------+------------------+------------------+------------------+-------------------+-------------------+------------------+-------------------+---------------------+------------------+\n",
       "|summary|          VendorID|   passenger_count|     trip_distance|        RateCodeID|     PULocationID|      DOLocationID|      payment_type|       fare_amount|              extra|            mta_tax|        tip_amount|       tolls_amount|improvement_surcharge|      total_amount|\n",
       "+-------+------------------+------------------+------------------+------------------+-----------------+------------------+------------------+------------------+-------------------+-------------------+------------------+-------------------+---------------------+------------------+\n",
       "|  count|         102804250|         102804250|         102804250|         102804250|        102804250|         102804250|         102804250|         102804250|          102804250|          102804250|         102804250|          102804250|            102804250|         102804250|\n",
       "|   mean|1.5917952419282277|1.5949764333672976| 2.935368240515281|1.0501113718547628|163.1976826833521|161.42923143741626|1.3139463300398573|13.060032438153184|0.33070590924013327|0.49713522106333163|1.8747264632543357|0.34687786127552644|    0.299587523659946|16.412771868007482|\n",
       "| stddev|0.5198787068970184|1.2412303351510654|19.126793016573206|0.7578954227329817|66.53010479123175| 70.41625751123695|0.4844298740802132|150.83157884972647| 0.4660741653145101|0.05022877093569929|2.6117606925611883| 1.7916384543455615|   0.4933835174627733|151.07475384454816|\n",
       "|    min|                 1|                 0|               0.0|                 1|                1|                 1|                 1|            -800.0|              -80.0|               -0.5|           -322.42|              -52.5|                 -0.3|            -800.3|\n",
       "|    max|                 4|               192|         189483.84|                99|              265|               265|                 5|         907070.24|              96.64|              150.0|            945.97|             1650.0|               4000.3|         907071.04|\n",
       "+-------+------------------+------------------+------------------+------------------+-----------------+------------------+------------------+------------------+-------------------+-------------------+------------------+-------------------+---------------------+------------------+"
      ]
     },
     "execution_count": 11,
     "metadata": {},
     "output_type": "execute_result"
    }
   ],
   "source": [
    "ytx_2018_sdf.describe()"
   ]
  },
  {
   "cell_type": "markdown",
   "id": "01db87f2",
   "metadata": {},
   "source": [
    "> Based on the description/distribution of the dataset, it looks like `fare_amount`, `extra`, `mta_tax`, `tip_amount`, `tolls_amount`, `improvement_surcharge` and `total_amount` have __negative__ values. This does not make any sense, it could mean a lot of thing as it does not mean necessarily means missing values or error. Just what is the underlying reason behind this negative values? Anyhow, we cannot remove it right now as not there is not enough evidence.\n",
    "---\n",
    "---\n",
    "\n",
    "### Cleaning\n",
    "> VendorID should only be 1 and 2, but here the maximum is 4.\n",
    "\n",
    "> Inaccurate pickup and dropoff time if pickup happen after dropoff.\n",
    "\n",
    "> In RateCodeID, we also see that the value should always be between 1 and 6 but it has a maximum of 99.\n",
    "\n",
    "> Fare amount less than 2.5 should only be payment type 3 to 6.\n",
    "\n",
    "> The `fare_amount` should be more than the minimum fare which is 0.5\\\\$ per 1/5 mile or per min and less than the maximum fare stated.\n",
    "\n",
    "> According to the dictionary, `extra` should only include \\\\$0.5 rush hour surcharge and \\\\$1.0 overnight surcharge. But in this case, it has a maximum of 96.64 and minimum of -80.0.\n",
    "\n",
    "> mta_tax should only be \\$0.5 surcharge, but it has a maximum of 150.\n",
    "\n",
    "> tip_amount should only be related to payment_type 1 (credit).\n",
    "\n",
    "> improvement_surcharge should only be \\$0.3 as well, but here we can see the maximum is 4000.3.\n",
    "\n",
    "> We also see irregularities in `passenger_count` which have maximum of 192. The maximum number of passengers is 6 as stated.\n",
    "\n"
   ]
  },
  {
   "cell_type": "markdown",
   "id": "d3cf3472",
   "metadata": {},
   "source": [
    "#### Calculating Trip Duration"
   ]
  },
  {
   "cell_type": "code",
   "execution_count": 12,
   "id": "ec8ac209",
   "metadata": {},
   "outputs": [],
   "source": [
    "# Adding trip duration in minutes by rounding the difference of dropoff and pickup time.\n",
    "ytx_2018_sdf = ytx_2018_sdf.withColumn('trip_duration', \n",
    "                        f.round((ytx_2018_sdf['tpep_dropoff_datetime'].cast('long') \\\n",
    "                                 - ytx_2018_sdf['tpep_pickup_datetime'].cast('long')) / 60))\n",
    "\n",
    "ytx_2018_sdf = ytx_2018_sdf.filter('trip_duration > 0')"
   ]
  },
  {
   "cell_type": "markdown",
   "id": "bfae4e79",
   "metadata": {},
   "source": [
    "#### Computing Average Speed\n",
    "> The speed limit statewide in NYC was __changed to 25 mph from 30 mph in 7th November of 2014__[1], unless otherwise signed as part of __Vision Zero initiative__ conducted by NYC government. Only 3% of those previous speed limit (30 mph) was left. Furthermore, out of those 3%, 25% of it are on Staten Island and 48% are located in Queens. We also want to remove those records that are speeding as the __fine ranges from \\\\$90 to \\\\$600 for first conviction__[3] and would not be profitable. As we are aiming for profitability of Yellow Taxis, we should maintain the maximum speed limit to be 25-30 mph without exceeding it at all as perhaps some passenger might ask the driver to went over the speed limit a bit.\n",
    "\n",
    ">https://www1.nyc.gov/html/dot/html/motorist/motorist.shtml\n",
    "\n",
    "> Mapping : https://data.cityofnewyork.us/Transportation/VZV_Speed-Limits/7n5j-865y\n",
    "\n",
    ">https://trafficsafety.ny.gov/penalties-speeding"
   ]
  },
  {
   "cell_type": "code",
   "execution_count": 13,
   "id": "608f0f60",
   "metadata": {},
   "outputs": [],
   "source": [
    "# Drop any 0 trip duration as it may means the taxi is not moving or the record itself is inaccurate\n",
    "ytx_2018_sdf = ytx_2018_sdf.filter('trip_distance > 0')"
   ]
  },
  {
   "cell_type": "code",
   "execution_count": 14,
   "id": "f027268c",
   "metadata": {},
   "outputs": [],
   "source": [
    "# Calculating average speed over the trip distance over the duration.\n",
    "ytx_2018_sdf = ytx_2018_sdf.withColumn('avg_speed', \n",
    "                        f.round(ytx_2018_sdf['trip_distance']/(ytx_2018_sdf['trip_duration']/60), 2))\n",
    "\n",
    "ytx_2018_sdf = ytx_2018_sdf.filter('avg_speed <= 30')"
   ]
  },
  {
   "cell_type": "markdown",
   "id": "7239e0da",
   "metadata": {},
   "source": [
    "#### VendorID"
   ]
  },
  {
   "cell_type": "code",
   "execution_count": 15,
   "id": "27e46ad5",
   "metadata": {},
   "outputs": [],
   "source": [
    "ytx_2018_sdf = ytx_2018_sdf.filter('VendorID in (1, 2)')"
   ]
  },
  {
   "cell_type": "markdown",
   "id": "35c225a1",
   "metadata": {},
   "source": [
    "#### Inaccurate Passenger Count\n",
    "\n",
    "> Based on few description above, we can see that the __minimum__ of `passenger_count` is __zero__ and the maximum are __192__. Furthermore, we assume that __zero__ `passenger_count` to inaccurate or not recorded properly to be removed. The removal may be justified with reasoning that it may hinder in our analysis as we aim to maximise profitability with of course passenger riding the taxi. The question for this is that __\"How can a taxi with no passenger riding can gain profit? is it reasonable?\"__.\n",
    "\n",
    "> Maybe someone ask a taxi driver to deliver some stuffs?\n",
    "\n",
    "> From Driver Rule 54-15(g) Chapter 54 - Drivers of Taxicabs and Street Hail Liveries. __\"Overloading Vehicle. A Driver must not permit more than four Passengers to\n",
    "ride in a four-Passenger Vehicle, nor more than five Passengers in a fivePassenger Vehicle, except that an additional Passenger must be accepted if the\n",
    "Passenger is under the age of seven (7) and is held on the lap of an adult\n",
    "Passenger seated in the rear. A Driver must not permit a Street Hail Livery to be\n",
    "overloaded or to carry more passengers than the Vehicle is equipped to seat based\n",
    "on the NYS DMV registration of the Vehicle.\"__\n",
    "\n",
    "> https://www1.nyc.gov/assets/tlc/downloads/pdf/rule_book_current_chapter_54.pdf\n",
    "\n",
    "> With that Rule stated, we can say that the maximum passengers on taxi-cab are 5 adults and 1 child under the age of seven. Therefore, __maximum of 6 passengers__ can be allowed."
   ]
  },
  {
   "cell_type": "code",
   "execution_count": 16,
   "id": "85cc17ad",
   "metadata": {},
   "outputs": [],
   "source": [
    "ytx_2018_sdf = ytx_2018_sdf.filter('passenger_count >= 0 and passenger_count <= 6')"
   ]
  },
  {
   "cell_type": "markdown",
   "id": "9be6a66b",
   "metadata": {},
   "source": [
    "#### Improper RateCodeID"
   ]
  },
  {
   "cell_type": "code",
   "execution_count": 17,
   "id": "e7a25fea",
   "metadata": {},
   "outputs": [],
   "source": [
    "ytx_2018_sdf = ytx_2018_sdf.filter('RateCodeID <= 6')"
   ]
  },
  {
   "cell_type": "markdown",
   "id": "bcb5d022",
   "metadata": {},
   "source": [
    "#### Fare Amount less than $2.5"
   ]
  },
  {
   "cell_type": "code",
   "execution_count": 18,
   "id": "2b49fa9b",
   "metadata": {},
   "outputs": [
    {
     "data": {
      "text/html": [
       "<table border='1'>\n",
       "<tr><th>VendorID</th><th>tpep_pickup_datetime</th><th>tpep_dropoff_datetime</th><th>passenger_count</th><th>trip_distance</th><th>RateCodeID</th><th>store_and_fwd_flag</th><th>PULocationID</th><th>DOLocationID</th><th>payment_type</th><th>fare_amount</th><th>extra</th><th>mta_tax</th><th>tip_amount</th><th>tolls_amount</th><th>improvement_surcharge</th><th>total_amount</th><th>trip_duration</th><th>avg_speed</th></tr>\n",
       "<tr><td>2</td><td>2018-01-01 01:02:39</td><td>2018-01-01 01:04:02</td><td>2</td><td>0.09</td><td>1</td><td>false</td><td>87</td><td>87</td><td>4</td><td>-3.0</td><td>-0.5</td><td>-0.5</td><td>0.0</td><td>0.0</td><td>-0.3</td><td>-4.3</td><td>1.0</td><td>5.4</td></tr>\n",
       "<tr><td>2</td><td>2018-01-01 00:38:19</td><td>2018-01-01 00:55:57</td><td>1</td><td>0.41</td><td>1</td><td>false</td><td>68</td><td>68</td><td>4</td><td>-11.0</td><td>-0.5</td><td>-0.5</td><td>0.0</td><td>0.0</td><td>-0.3</td><td>-12.3</td><td>18.0</td><td>1.37</td></tr>\n",
       "<tr><td>2</td><td>2018-01-01 00:47:40</td><td>2018-01-01 00:49:06</td><td>1</td><td>0.13</td><td>1</td><td>false</td><td>137</td><td>137</td><td>3</td><td>-3.0</td><td>-0.5</td><td>-0.5</td><td>0.0</td><td>0.0</td><td>-0.3</td><td>-4.3</td><td>1.0</td><td>7.8</td></tr>\n",
       "<tr><td>2</td><td>2018-01-01 00:11:10</td><td>2018-01-01 00:15:14</td><td>1</td><td>0.16</td><td>1</td><td>false</td><td>137</td><td>170</td><td>4</td><td>-4.5</td><td>-0.5</td><td>-0.5</td><td>0.0</td><td>0.0</td><td>-0.3</td><td>-5.8</td><td>4.0</td><td>2.4</td></tr>\n",
       "<tr><td>2</td><td>2018-01-01 00:22:25</td><td>2018-01-01 00:26:42</td><td>2</td><td>0.12</td><td>1</td><td>false</td><td>48</td><td>48</td><td>3</td><td>-4.5</td><td>-0.5</td><td>-0.5</td><td>0.0</td><td>0.0</td><td>-0.3</td><td>-5.8</td><td>4.0</td><td>1.8</td></tr>\n",
       "</table>\n"
      ],
      "text/plain": [
       "+--------+--------------------+---------------------+---------------+-------------+----------+------------------+------------+------------+------------+-----------+-----+-------+----------+------------+---------------------+------------+-------------+---------+\n",
       "|VendorID|tpep_pickup_datetime|tpep_dropoff_datetime|passenger_count|trip_distance|RateCodeID|store_and_fwd_flag|PULocationID|DOLocationID|payment_type|fare_amount|extra|mta_tax|tip_amount|tolls_amount|improvement_surcharge|total_amount|trip_duration|avg_speed|\n",
       "+--------+--------------------+---------------------+---------------+-------------+----------+------------------+------------+------------+------------+-----------+-----+-------+----------+------------+---------------------+------------+-------------+---------+\n",
       "|       2| 2018-01-01 01:02:39|  2018-01-01 01:04:02|              2|         0.09|         1|             false|          87|          87|           4|       -3.0| -0.5|   -0.5|       0.0|         0.0|                 -0.3|        -4.3|          1.0|      5.4|\n",
       "|       2| 2018-01-01 00:38:19|  2018-01-01 00:55:57|              1|         0.41|         1|             false|          68|          68|           4|      -11.0| -0.5|   -0.5|       0.0|         0.0|                 -0.3|       -12.3|         18.0|     1.37|\n",
       "|       2| 2018-01-01 00:47:40|  2018-01-01 00:49:06|              1|         0.13|         1|             false|         137|         137|           3|       -3.0| -0.5|   -0.5|       0.0|         0.0|                 -0.3|        -4.3|          1.0|      7.8|\n",
       "|       2| 2018-01-01 00:11:10|  2018-01-01 00:15:14|              1|         0.16|         1|             false|         137|         170|           4|       -4.5| -0.5|   -0.5|       0.0|         0.0|                 -0.3|        -5.8|          4.0|      2.4|\n",
       "|       2| 2018-01-01 00:22:25|  2018-01-01 00:26:42|              2|         0.12|         1|             false|          48|          48|           3|       -4.5| -0.5|   -0.5|       0.0|         0.0|                 -0.3|        -5.8|          4.0|      1.8|\n",
       "+--------+--------------------+---------------------+---------------+-------------+----------+------------------+------------+------------+------------+-----------+-----+-------+----------+------------+---------------------+------------+-------------+---------+"
      ]
     },
     "execution_count": 18,
     "metadata": {},
     "output_type": "execute_result"
    }
   ],
   "source": [
    "ytx_2018_sdf.filter(ytx_2018_sdf['fare_amount'] < 2.5).limit(5)"
   ]
  },
  {
   "cell_type": "markdown",
   "id": "323b7bfc",
   "metadata": {},
   "source": [
    "> It looks like that the negative `fare_amount`, `extra`, `mta_tax`, `tip_amount`, `tolls_amount`, `improvement_surcharge` and `total_amount` may be caused by payment type 3 (No Charge) and payment type 4 (Dispute). Although, we see that `fare_amount` can be negative so it should be less than 0, but the incorrect records for it should be less than \\\\$2.5 as the __initial charge of a trip is always \\\\$2.5__. But is it all caused by payment type 3 and type 4?"
   ]
  },
  {
   "cell_type": "code",
   "execution_count": 19,
   "id": "9eb7562c",
   "metadata": {},
   "outputs": [
    {
     "data": {
      "text/html": [
       "<table border='1'>\n",
       "<tr><th>payment_type</th><th>count</th></tr>\n",
       "<tr><td>1</td><td>1263</td></tr>\n",
       "<tr><td>3</td><td>33712</td></tr>\n",
       "<tr><td>4</td><td>16936</td></tr>\n",
       "<tr><td>2</td><td>7241</td></tr>\n",
       "</table>\n"
      ],
      "text/plain": [
       "+------------+-----+\n",
       "|payment_type|count|\n",
       "+------------+-----+\n",
       "|           1| 1263|\n",
       "|           3|33712|\n",
       "|           4|16936|\n",
       "|           2| 7241|\n",
       "+------------+-----+"
      ]
     },
     "execution_count": 19,
     "metadata": {},
     "output_type": "execute_result"
    }
   ],
   "source": [
    "ytx_2018_sdf.select('payment_type', 'fare_amount') \\\n",
    "            .filter(ytx_2018_sdf['fare_amount'] < 2.5) \\\n",
    "            .groupBy('payment_type').count()"
   ]
  },
  {
   "cell_type": "markdown",
   "id": "6a60b634",
   "metadata": {},
   "source": [
    "> Here we can say that `payment_type` 1 and 2 with `fare_amount` __less than \\\\$2.5__ to be inaccurate records. Therefore, we can exclude those rows from the dataset."
   ]
  },
  {
   "cell_type": "code",
   "execution_count": 20,
   "id": "79544237",
   "metadata": {},
   "outputs": [],
   "source": [
    "ytx_2018_sdf = ytx_2018_sdf.filter(\"fare_amount >= 2.5 or (fare_amount < 2.5 and (payment_type not in (1, 2)))\")"
   ]
  },
  {
   "cell_type": "markdown",
   "id": "e0929c1d",
   "metadata": {},
   "source": [
    "#### Inaccurate Fare Amount\n",
    "> Next, we want to check if the `fare_amount` were calculated accurately, with $2.50 initial charge\n",
    "Plus 50 cents per 1/5 mile when traveling above 12mph or per 60 seconds in slow traffic or when the vehicle is stopped.\n",
    "\n",
    "> According to the TLC website, the `fare_amount` can be decluttered as such: \n",
    "<center>\n",
    "$ f(n) =\n",
    "  \\begin{cases}\n",
    "    \\$2.5 \\text{ per mile}      & \\quad \\text{if speed} > 12 \\text{ mph}\\\\\n",
    "    \\$2.5 \\text{ per mile} =  \\$0.5 \\text{ per minute} & \\quad \\text{if speed} = 12 \\text{ mph} \\\\\n",
    "    \\$0.5 \\text{ per minute}      & \\quad \\text{if speed} < 12 \\text{ mph}\n",
    "  \\end{cases}\n",
    "$\n",
    "</center>"
   ]
  },
  {
   "cell_type": "markdown",
   "id": "85a583aa",
   "metadata": {},
   "source": [
    "> With that, we can derived the __minimum__ of riding a Yellow Taxi as such:\n",
    "<center>\n",
    "$ minimum fare = \\$2.5 + max(0.5 \\cdot minute, 2.5 \\cdot distance)$\n",
    "</center>"
   ]
  },
  {
   "cell_type": "markdown",
   "id": "c9fea7c5",
   "metadata": {},
   "source": [
    "> We also want the negative `fare_amount` to be calculated as such, therefore we have to take the absolute of the fare amount. <center>$\\text{fare per minute or fare per 1/5 mile} = \\frac{|\\text{fare amount}| - 2.5}{max(0.5 \\cdot minute, 2.5 \\cdot miles)}$\n",
    "\n",
    "> https://www1.nyc.gov/site/tlc/passengers/taxi-fare.page \n",
    "    \n",
    "> https://puzzling.stackexchange.com/questions/101441/the-range-of-taxi-fares"
   ]
  },
  {
   "cell_type": "code",
   "execution_count": 21,
   "id": "fbe58685",
   "metadata": {},
   "outputs": [],
   "source": [
    "# minimal fare = 2.5 + max(0.5 * minute, 2.5 * distance)\n",
    "ytx_2018_sdf = ytx_2018_sdf.withColumn('min_fare', 2.5 + \\\n",
    "                        f.greatest(0.5*ytx_2018_sdf['trip_duration'], \n",
    "                                   2.5*ytx_2018_sdf['trip_distance']))"
   ]
  },
  {
   "cell_type": "code",
   "execution_count": 22,
   "id": "62a5267e",
   "metadata": {},
   "outputs": [],
   "source": [
    "ytx_2018_sdf = ytx_2018_sdf.filter(f.abs(ytx_2018_sdf['fare_amount']) >= ytx_2018_sdf['min_fare'])"
   ]
  },
  {
   "cell_type": "markdown",
   "id": "601d54d2",
   "metadata": {},
   "source": [
    "#### Inaccurate extra, mta_tax and improvement_surcharge records"
   ]
  },
  {
   "cell_type": "code",
   "execution_count": 23,
   "id": "e71ff7fa",
   "metadata": {},
   "outputs": [],
   "source": [
    "# Filtering out the irregularities found in extra, mta_tax and improvement_surcharge according\n",
    "# to the data dictionary.\n",
    "ytx_2018_sdf = ytx_2018_sdf.filter('extra in (-1, -0.5, 0.5, 1)') \\\n",
    "                           .filter('mta_tax in (-0.5, 0.5)') \\\n",
    "                           .filter('improvement_surcharge in (-0.3, 0.3)')"
   ]
  },
  {
   "cell_type": "markdown",
   "id": "7d8d8ddb",
   "metadata": {},
   "source": [
    "#### Inaccurate tip amount"
   ]
  },
  {
   "cell_type": "code",
   "execution_count": 24,
   "id": "2047ee67",
   "metadata": {},
   "outputs": [],
   "source": [
    "ytx_2018_sdf = ytx_2018_sdf.filter(((f.abs(ytx_2018_sdf['tip_amount']) >= 0) & (ytx_2018_sdf['payment_type'] == 1)) |\n",
    "                                    (ytx_2018_sdf['tip_amount'] == 0) & (ytx_2018_sdf['payment_type'] != 1))"
   ]
  },
  {
   "cell_type": "markdown",
   "id": "7622268d",
   "metadata": {},
   "source": [
    "#### Payment Type"
   ]
  },
  {
   "cell_type": "code",
   "execution_count": 25,
   "id": "4399315d",
   "metadata": {},
   "outputs": [],
   "source": [
    "ytx_2018_sdf = ytx_2018_sdf.filter('payment_type = 1')"
   ]
  },
  {
   "cell_type": "markdown",
   "id": "ea777cdf",
   "metadata": {},
   "source": [
    "#### PULocationID and DOLocationID"
   ]
  },
  {
   "cell_type": "code",
   "execution_count": 26,
   "id": "36070b0f",
   "metadata": {},
   "outputs": [],
   "source": [
    "# In taxi zone lookup location starts from id 1 and (id 264 and 264) are unknown.\n",
    "ytx_2018_sdf = ytx_2018_sdf.filter('PULocationID > 0 and PULocationID <= 263') \\\n",
    "                           .filter('PULocationID > 0 and PULocationID <= 263')"
   ]
  },
  {
   "cell_type": "markdown",
   "id": "f9fe9d09",
   "metadata": {},
   "source": [
    "### Dropping Irrelevant features"
   ]
  },
  {
   "cell_type": "code",
   "execution_count": 27,
   "id": "a9a60a2d",
   "metadata": {},
   "outputs": [
    {
     "data": {
      "text/html": [
       "<table border='1'>\n",
       "<tr><th>summary</th><th>VendorID</th><th>passenger_count</th><th>trip_distance</th><th>RateCodeID</th><th>PULocationID</th><th>DOLocationID</th><th>payment_type</th><th>fare_amount</th><th>extra</th><th>mta_tax</th><th>tip_amount</th><th>tolls_amount</th><th>improvement_surcharge</th><th>total_amount</th><th>trip_duration</th><th>avg_speed</th><th>min_fare</th></tr>\n",
       "<tr><td>count</td><td>31456260</td><td>31456260</td><td>31456260</td><td>31456260</td><td>31456260</td><td>31456260</td><td>31456260</td><td>31456260</td><td>31456260</td><td>31456260</td><td>31456260</td><td>31456260</td><td>31456260</td><td>31456260</td><td>31456260</td><td>31456260</td><td>31456260</td></tr>\n",
       "<tr><td>mean</td><td>1.581947313507709</td><td>1.5976310915537957</td><td>2.722455032480016</td><td>1.000926556431057</td><td>160.4036136209454</td><td>157.66923982698515</td><td>1.0</td><td>12.046803216911355</td><td>0.6783010281578293</td><td>0.5</td><td>2.4881992493701777</td><td>0.1890320969498349</td><td>0.30000000000117766</td><td>16.206657939908666</td><td>13.690371360104475</td><td>11.505722613240748</td><td>10.530696982095087</td></tr>\n",
       "<tr><td>stddev</td><td>0.49323893352302384</td><td>1.2291365682815243</td><td>2.647296313363658</td><td>0.05271382450874234</td><td>64.81510185927299</td><td>72.16645926434423</td><td>0.0</td><td>8.003740709372236</td><td>0.23949852895543547</td><td>0.0</td><td>2.0173977230752254</td><td>1.054756009528139</td><td>0.0</td><td>10.031378994962974</td><td>9.66287788595142</td><td>4.878551397082311</td><td>6.673947520663254</td></tr>\n",
       "<tr><td>min</td><td>1</td><td>0</td><td>0.01</td><td>1</td><td>1</td><td>1</td><td>1</td><td>3.0</td><td>-0.5</td><td>0.5</td><td>0.0</td><td>0.0</td><td>0.3</td><td>4.3</td><td>1.0</td><td>0.01</td><td>3.0</td></tr>\n",
       "<tr><td>max</td><td>2</td><td>6</td><td>89.57</td><td>4</td><td>263</td><td>265</td><td>1</td><td>411.5</td><td>1.0</td><td>0.5</td><td>457.11</td><td>189.99</td><td>0.3</td><td>469.41</td><td>592.0</td><td>30.0</td><td>298.5</td></tr>\n",
       "</table>\n"
      ],
      "text/plain": [
       "+-------+-------------------+------------------+-----------------+-------------------+-----------------+------------------+------------+------------------+-------------------+--------+------------------+------------------+---------------------+------------------+------------------+------------------+------------------+\n",
       "|summary|           VendorID|   passenger_count|    trip_distance|         RateCodeID|     PULocationID|      DOLocationID|payment_type|       fare_amount|              extra| mta_tax|        tip_amount|      tolls_amount|improvement_surcharge|      total_amount|     trip_duration|         avg_speed|          min_fare|\n",
       "+-------+-------------------+------------------+-----------------+-------------------+-----------------+------------------+------------+------------------+-------------------+--------+------------------+------------------+---------------------+------------------+------------------+------------------+------------------+\n",
       "|  count|           31456260|          31456260|         31456260|           31456260|         31456260|          31456260|    31456260|          31456260|           31456260|31456260|          31456260|          31456260|             31456260|          31456260|          31456260|          31456260|          31456260|\n",
       "|   mean|  1.581947313507709|1.5976310915537957|2.722455032480016|  1.000926556431057|160.4036136209454|157.66923982698515|         1.0|12.046803216911355| 0.6783010281578293|     0.5|2.4881992493701777|0.1890320969498349|  0.30000000000117766|16.206657939908666|13.690371360104475|11.505722613240748|10.530696982095087|\n",
       "| stddev|0.49323893352302384|1.2291365682815243|2.647296313363658|0.05271382450874234|64.81510185927299| 72.16645926434423|         0.0| 8.003740709372236|0.23949852895543547|     0.0|2.0173977230752254| 1.054756009528139|                  0.0|10.031378994962974|  9.66287788595142| 4.878551397082311| 6.673947520663254|\n",
       "|    min|                  1|                 0|             0.01|                  1|                1|                 1|           1|               3.0|               -0.5|     0.5|               0.0|               0.0|                  0.3|               4.3|               1.0|              0.01|               3.0|\n",
       "|    max|                  2|                 6|            89.57|                  4|              263|               265|           1|             411.5|                1.0|     0.5|            457.11|            189.99|                  0.3|            469.41|             592.0|              30.0|             298.5|\n",
       "+-------+-------------------+------------------+-----------------+-------------------+-----------------+------------------+------------+------------------+-------------------+--------+------------------+------------------+---------------------+------------------+------------------+------------------+------------------+"
      ]
     },
     "execution_count": 27,
     "metadata": {},
     "output_type": "execute_result"
    }
   ],
   "source": [
    "ytx_2018_sdf.describe()"
   ]
  },
  {
   "cell_type": "code",
   "execution_count": 28,
   "id": "4513d163",
   "metadata": {},
   "outputs": [],
   "source": [
    "ytx_2018_sdf = ytx_2018_sdf.drop('payment_type', 'VendorID', 'min_fare', 'store_and_fwd_flag', 'total_amount',\n",
    "                                 'extra', 'MTA_tax', 'improvement_surcharge', 'passenger_count', 'RateCodeID')"
   ]
  },
  {
   "cell_type": "markdown",
   "id": "b4b5315d",
   "metadata": {},
   "source": [
    "#### To parquet"
   ]
  },
  {
   "cell_type": "code",
   "execution_count": 29,
   "id": "1147cca1",
   "metadata": {},
   "outputs": [],
   "source": [
    "# Check to see if the fpath already exists. If so, remove it.\n",
    "from shutil import rmtree\n",
    "from os import path\n",
    "\n",
    "fpath = '../preprocessed_data/ytx_2018_cleaned.parquet/'\n",
    "\n",
    "if path.exists(fpath):\n",
    "    rmtree(fpath)\n",
    "        \n",
    "ytx_2018_sdf.write.parquet('../preprocessed_data/ytx_2018_cleaned.parquet')"
   ]
  },
  {
   "cell_type": "code",
   "execution_count": 30,
   "id": "ca377d72",
   "metadata": {},
   "outputs": [
    {
     "name": "stdout",
     "output_type": "stream",
     "text": [
      "Original count: 102804250\n",
      "Reduced by: 71347990\n",
      "Reduced by (%): 0.6940\n",
      "Reduced Count: 31456260\n"
     ]
    }
   ],
   "source": [
    "temp = spark.read.parquet('../preprocessed_data/ytx_2018_cleaned.parquet/')\n",
    "reduced_count = temp.count()\n",
    "print(\"Original count:\", original_count)\n",
    "print(f\"Reduced by: {original_count - reduced_count}\")\n",
    "print(\"Reduced by (%):\", \"{:.4f}\".format((original_count - reduced_count) / original_count))\n",
    "print(\"Reduced Count:\", reduced_count)"
   ]
  },
  {
   "cell_type": "markdown",
   "id": "f6d4ece5",
   "metadata": {},
   "source": [
    "### Yellow Taxi 2019"
   ]
  },
  {
   "cell_type": "code",
   "execution_count": 31,
   "id": "fd8950f4",
   "metadata": {},
   "outputs": [],
   "source": [
    "ytx_2019_sdf = spark.read.csv('../raw_data/YTX/2019', header=True)"
   ]
  },
  {
   "cell_type": "code",
   "execution_count": 32,
   "id": "98f967b7",
   "metadata": {},
   "outputs": [],
   "source": [
    "ints = ('VendorID', 'passenger_count', 'RateCodeID', 'RatecodeID'\n",
    "        ,'payment_type', 'PULocationID', 'DOLocationID')\n",
    "\n",
    "doubles = ('trip_distance', 'fare_amount', 'extra', 'mta_tax', \n",
    "           'tip_amount', 'tolls_amount', 'improvement_surcharge', \n",
    "           'total_amount', 'congestion_surcharge')\n",
    "\n",
    "strings = ('store_and_fwd_flag',)\n",
    "\n",
    "dtimes = ('tpep_pickup_datetime', 'tpep_dropoff_datetime', )\n",
    "\n",
    "dtypes = {column: IntegerType() for column in ints}\n",
    "dtypes.update({column: DoubleType() for column in doubles})\n",
    "dtypes.update({column: StringType() for column in strings})\n",
    "dtypes.update({column: TimestampType() for column in dtimes})\n",
    "\n",
    "schema = StructType()\n",
    "\n",
    "for column in ytx_2019_sdf.columns:\n",
    "    schema.add(column, # column name\n",
    "               dtypes[column], # data type\n",
    "               True # is nullable?\n",
    "              )"
   ]
  },
  {
   "cell_type": "code",
   "execution_count": 33,
   "id": "2d69c312",
   "metadata": {},
   "outputs": [
    {
     "name": "stdout",
     "output_type": "stream",
     "text": [
      "root\n",
      " |-- VendorID: integer (nullable = true)\n",
      " |-- tpep_pickup_datetime: timestamp (nullable = true)\n",
      " |-- tpep_dropoff_datetime: timestamp (nullable = true)\n",
      " |-- passenger_count: integer (nullable = true)\n",
      " |-- trip_distance: double (nullable = true)\n",
      " |-- RateCodeID: integer (nullable = true)\n",
      " |-- store_and_fwd_flag: string (nullable = true)\n",
      " |-- PULocationID: integer (nullable = true)\n",
      " |-- DOLocationID: integer (nullable = true)\n",
      " |-- payment_type: integer (nullable = true)\n",
      " |-- fare_amount: double (nullable = true)\n",
      " |-- extra: double (nullable = true)\n",
      " |-- mta_tax: double (nullable = true)\n",
      " |-- tip_amount: double (nullable = true)\n",
      " |-- tolls_amount: double (nullable = true)\n",
      " |-- improvement_surcharge: double (nullable = true)\n",
      " |-- total_amount: double (nullable = true)\n",
      " |-- congestion_surcharge: double (nullable = true)\n",
      "\n"
     ]
    }
   ],
   "source": [
    "ytx_2019_sdf = spark.read.csv('../raw_data/YTX/2019', header = True, schema = schema) \\\n",
    "    .withColumnRenamed(\"RatecodeID\",\"RateCodeID\") # rename the wrong column\n",
    "\n",
    "ytx_2019_sdf.printSchema()"
   ]
  },
  {
   "cell_type": "code",
   "execution_count": 34,
   "id": "7fb71b94",
   "metadata": {},
   "outputs": [
    {
     "data": {
      "text/html": [
       "<table border='1'>\n",
       "<tr><th>VendorID</th><th>tpep_pickup_datetime</th><th>tpep_dropoff_datetime</th><th>passenger_count</th><th>trip_distance</th><th>RateCodeID</th><th>store_and_fwd_flag</th><th>PULocationID</th><th>DOLocationID</th><th>payment_type</th><th>fare_amount</th><th>extra</th><th>mta_tax</th><th>tip_amount</th><th>tolls_amount</th><th>improvement_surcharge</th><th>total_amount</th><th>congestion_surcharge</th></tr>\n",
       "<tr><td>246601</td><td>0</td><td>0</td><td>246601</td><td>0</td><td>246601</td><td>246601</td><td>0</td><td>0</td><td>246601</td><td>0</td><td>0</td><td>0</td><td>0</td><td>0</td><td>0</td><td>0</td><td>4855981</td></tr>\n",
       "</table>\n"
      ],
      "text/plain": [
       "+--------+--------------------+---------------------+---------------+-------------+----------+------------------+------------+------------+------------+-----------+-----+-------+----------+------------+---------------------+------------+--------------------+\n",
       "|VendorID|tpep_pickup_datetime|tpep_dropoff_datetime|passenger_count|trip_distance|RateCodeID|store_and_fwd_flag|PULocationID|DOLocationID|payment_type|fare_amount|extra|mta_tax|tip_amount|tolls_amount|improvement_surcharge|total_amount|congestion_surcharge|\n",
       "+--------+--------------------+---------------------+---------------+-------------+----------+------------------+------------+------------+------------+-----------+-----+-------+----------+------------+---------------------+------------+--------------------+\n",
       "|  246601|                   0|                    0|         246601|            0|    246601|            246601|           0|           0|      246601|          0|    0|      0|         0|           0|                    0|           0|             4855981|\n",
       "+--------+--------------------+---------------------+---------------+-------------+----------+------------------+------------+------------+------------+-----------+-----+-------+----------+------------+---------------------+------------+--------------------+"
      ]
     },
     "execution_count": 34,
     "metadata": {},
     "output_type": "execute_result"
    }
   ],
   "source": [
    "from pyspark.sql.functions import isnan, when, count, col\n",
    "\n",
    "ytx_2019_sdf.select([count(when(col(c).isNull(), c)).alias(c) for c in ytx_2019_sdf.columns]).limit(1)"
   ]
  },
  {
   "cell_type": "markdown",
   "id": "21f53232",
   "metadata": {},
   "source": [
    "> Here we can see that there is missing values, which we going to drop as this will be the prediction set and considered as unseen (only cleaned)"
   ]
  },
  {
   "cell_type": "code",
   "execution_count": 35,
   "id": "5af4603b",
   "metadata": {},
   "outputs": [],
   "source": [
    "original_count = ytx_2019_sdf.count()\n",
    "ytx_2019_sdf = ytx_2019_sdf.dropna(how = 'any')"
   ]
  },
  {
   "cell_type": "code",
   "execution_count": 36,
   "id": "c3faf12c",
   "metadata": {},
   "outputs": [],
   "source": [
    "ytx_2019_sdf = ytx_2019_sdf.withColumn(\"store_and_fwd_flag\", \n",
    "                                             (ytx_2019_sdf[\"store_and_fwd_flag\"] == 'Y') \\\n",
    "                                             .cast(\"boolean\"))"
   ]
  },
  {
   "cell_type": "code",
   "execution_count": 37,
   "id": "f0f7f48d",
   "metadata": {},
   "outputs": [
    {
     "name": "stdout",
     "output_type": "stream",
     "text": [
      "root\n",
      " |-- VendorID: integer (nullable = true)\n",
      " |-- tpep_pickup_datetime: timestamp (nullable = true)\n",
      " |-- tpep_dropoff_datetime: timestamp (nullable = true)\n",
      " |-- passenger_count: integer (nullable = true)\n",
      " |-- trip_distance: double (nullable = true)\n",
      " |-- RateCodeID: integer (nullable = true)\n",
      " |-- store_and_fwd_flag: boolean (nullable = true)\n",
      " |-- PULocationID: integer (nullable = true)\n",
      " |-- DOLocationID: integer (nullable = true)\n",
      " |-- payment_type: integer (nullable = true)\n",
      " |-- fare_amount: double (nullable = true)\n",
      " |-- extra: double (nullable = true)\n",
      " |-- mta_tax: double (nullable = true)\n",
      " |-- tip_amount: double (nullable = true)\n",
      " |-- tolls_amount: double (nullable = true)\n",
      " |-- improvement_surcharge: double (nullable = true)\n",
      " |-- total_amount: double (nullable = true)\n",
      " |-- congestion_surcharge: double (nullable = true)\n",
      "\n"
     ]
    }
   ],
   "source": [
    "# Making sure store_and_fwd_flag has been set to boolean.\n",
    "ytx_2019_sdf.printSchema()"
   ]
  },
  {
   "cell_type": "code",
   "execution_count": 38,
   "id": "41126ad2",
   "metadata": {},
   "outputs": [],
   "source": [
    "# Adding trip duration in minutes by rounding the difference of dropoff and pickup time.\n",
    "ytx_2019_sdf = ytx_2019_sdf.withColumn('trip_duration', \n",
    "                        f.round((ytx_2019_sdf['tpep_dropoff_datetime'].cast('long') \\\n",
    "                                 - ytx_2019_sdf['tpep_pickup_datetime'].cast('long')) / 60))\n",
    "\n",
    "ytx_2019_sdf = ytx_2019_sdf.filter('trip_duration > 0')"
   ]
  },
  {
   "cell_type": "code",
   "execution_count": 39,
   "id": "fba03dfb",
   "metadata": {},
   "outputs": [],
   "source": [
    "# Drop any 0 trip duration as it may means the taxi is not moving or the record itself is inaccurate\n",
    "ytx_2019_sdf = ytx_2019_sdf.filter('trip_distance > 0')"
   ]
  },
  {
   "cell_type": "code",
   "execution_count": 40,
   "id": "90dff7a8",
   "metadata": {},
   "outputs": [],
   "source": [
    "# Calculating average speed over the trip distance over the duration.\n",
    "ytx_2019_sdf = ytx_2019_sdf.withColumn('avg_speed', \n",
    "                        f.round(ytx_2019_sdf['trip_distance']/(ytx_2019_sdf['trip_duration']/60), 2))\n",
    "\n",
    "ytx_2019_sdf = ytx_2019_sdf.filter('avg_speed <= 30')"
   ]
  },
  {
   "cell_type": "code",
   "execution_count": 41,
   "id": "26d61eaf",
   "metadata": {},
   "outputs": [],
   "source": [
    "# Follows the 2018 dataset.\n",
    "# VendorID are only 1 and 2 according to dictionary\n",
    "# Maximum legal passenger count of yellow taxi cab are 6\n",
    "# RateCodeID available are only 1, 2, 3, 4, 5 and 6\n",
    "# fare_amount that are negative can only be other than payment type 1 and 2\n",
    "\n",
    "ytx_2019_sdf = ytx_2019_sdf.filter('VendorID in (1, 2)') \\\n",
    "                           .filter('passenger_count >= 0 and passenger_count <= 6') \\\n",
    "                           .filter('RateCodeID <= 6') \\\n",
    "                           .filter(\"fare_amount >= 2.5 or (fare_amount < 2.5 and (payment_type not in (1, 2)))\")"
   ]
  },
  {
   "cell_type": "code",
   "execution_count": 42,
   "id": "44e18cfb",
   "metadata": {},
   "outputs": [],
   "source": [
    "# minimal fare = 2.5 + max(0.5 * minute, 2.5 * distance)\n",
    "ytx_2019_sdf = ytx_2019_sdf.withColumn('min_fare', 2.5 + \\\n",
    "                        f.greatest(0.5*ytx_2019_sdf['trip_duration'], \n",
    "                                   2.5*ytx_2019_sdf['trip_distance']))"
   ]
  },
  {
   "cell_type": "code",
   "execution_count": 43,
   "id": "bc1045a8",
   "metadata": {},
   "outputs": [],
   "source": [
    "# Inaccurate extra, mta_tax and improvement_surcharge\n",
    "ytx_2019_sdf = ytx_2019_sdf.filter('extra in (-1, -0.5, 0.5, 1)') \\\n",
    "                           .filter('mta_tax in (-0.5, 0.5)') \\\n",
    "                           .filter('improvement_surcharge in (-0.3, 0.3)')"
   ]
  },
  {
   "cell_type": "code",
   "execution_count": 44,
   "id": "8270fa57",
   "metadata": {},
   "outputs": [],
   "source": [
    "# Tip amount can only be charged with payment type 1\n",
    "ytx_2019_sdf = ytx_2019_sdf.filter(((f.abs(ytx_2019_sdf['tip_amount']) >= 0) & (ytx_2019_sdf['payment_type'] == 1)) |\n",
    "                                    (ytx_2019_sdf['tip_amount'] == 0) & (ytx_2019_sdf['payment_type'] != 1))"
   ]
  },
  {
   "cell_type": "code",
   "execution_count": 45,
   "id": "9c340839",
   "metadata": {},
   "outputs": [],
   "source": [
    "ytx_2019_sdf = ytx_2019_sdf.filter('payment_type = 1')"
   ]
  },
  {
   "cell_type": "code",
   "execution_count": 46,
   "id": "96f45d6b",
   "metadata": {},
   "outputs": [],
   "source": [
    "# In taxi zone lookup location starts from id 1 and (id 264 and 264) are unknown.\n",
    "ytx_2019_sdf = ytx_2019_sdf.filter('PULocationID > 0 and PULocationID <= 263') \\\n",
    "                           .filter('PULocationID > 0 and PULocationID <= 263')"
   ]
  },
  {
   "cell_type": "code",
   "execution_count": 47,
   "id": "b0f96826",
   "metadata": {},
   "outputs": [],
   "source": [
    "ytx_2019_sdf = ytx_2019_sdf.drop('payment_type', 'VendorID', 'min_fare', 'store_and_fwd_flag', 'total_amount',\n",
    "                                 'extra', 'MTA_tax', 'improvement_surcharge', 'passenger_count', 'RateCodeID',\n",
    "                                 'congestion_surcharge')"
   ]
  },
  {
   "cell_type": "code",
   "execution_count": 48,
   "id": "2084bfca",
   "metadata": {},
   "outputs": [],
   "source": [
    "from shutil import rmtree\n",
    "from os import path\n",
    "\n",
    "fpath = '../preprocessed_data/ytx_2019_cleaned.parquet/'\n",
    "if path.exists(fpath):\n",
    "    rmtree(fpath)\n",
    "ytx_2019_sdf.write.format('parquet').save('../preprocessed_data/ytx_2019_cleaned.parquet')    "
   ]
  },
  {
   "cell_type": "code",
   "execution_count": 49,
   "id": "3e5389b8",
   "metadata": {
    "scrolled": true
   },
   "outputs": [
    {
     "name": "stdout",
     "output_type": "stream",
     "text": [
      "Original count: 84399019\n",
      "Reduced by: 66938569\n",
      "Reduced by (%): 0.7931\n",
      "After Reduction: 17460450\n"
     ]
    }
   ],
   "source": [
    "temp = spark.read.parquet('../preprocessed_data/ytx_2019_cleaned.parquet/')\n",
    "reduced_count = temp.count()\n",
    "print(\"Original count:\", original_count)\n",
    "print(f\"Reduced by: {original_count - reduced_count}\")\n",
    "print(\"Reduced by (%):\", \"{:.4f}\".format((original_count - reduced_count) / original_count))\n",
    "print(\"After Reduction:\", reduced_count)"
   ]
  }
 ],
 "metadata": {
  "kernelspec": {
   "display_name": "Python 3",
   "language": "python",
   "name": "python3"
  },
  "language_info": {
   "codemirror_mode": {
    "name": "ipython",
    "version": 3
   },
   "file_extension": ".py",
   "mimetype": "text/x-python",
   "name": "python",
   "nbconvert_exporter": "python",
   "pygments_lexer": "ipython3",
   "version": "3.9.7"
  },
  "varInspector": {
   "cols": {
    "lenName": 16,
    "lenType": 16,
    "lenVar": 40
   },
   "kernels_config": {
    "python": {
     "delete_cmd_postfix": "",
     "delete_cmd_prefix": "del ",
     "library": "var_list.py",
     "varRefreshCmd": "print(var_dic_list())"
    },
    "r": {
     "delete_cmd_postfix": ") ",
     "delete_cmd_prefix": "rm(",
     "library": "var_list.r",
     "varRefreshCmd": "cat(var_dic_list()) "
    }
   },
   "types_to_exclude": [
    "module",
    "function",
    "builtin_function_or_method",
    "instance",
    "_Feature"
   ],
   "window_display": false
  }
 },
 "nbformat": 4,
 "nbformat_minor": 5
}
