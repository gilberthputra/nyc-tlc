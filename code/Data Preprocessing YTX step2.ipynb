{
 "cells": [
  {
   "cell_type": "code",
   "execution_count": 1,
   "id": "bf917644",
   "metadata": {},
   "outputs": [
    {
     "data": {
      "text/html": [
       "\n",
       "            <div>\n",
       "                <p><b>SparkSession - in-memory</b></p>\n",
       "                \n",
       "        <div>\n",
       "            <p><b>SparkContext</b></p>\n",
       "\n",
       "            <p><a href=\"http://172.30.147.127:4043\">Spark UI</a></p>\n",
       "\n",
       "            <dl>\n",
       "              <dt>Version</dt>\n",
       "                <dd><code>v3.2.0</code></dd>\n",
       "              <dt>Master</dt>\n",
       "                <dd><code>local</code></dd>\n",
       "              <dt>AppName</dt>\n",
       "                <dd><code>Data Preprocessing YTX</code></dd>\n",
       "            </dl>\n",
       "        </div>\n",
       "        \n",
       "            </div>\n",
       "        "
      ],
      "text/plain": [
       "<pyspark.sql.session.SparkSession at 0x7f5ad096b220>"
      ]
     },
     "execution_count": 1,
     "metadata": {},
     "output_type": "execute_result"
    }
   ],
   "source": [
    "import pandas as pd\n",
    "\n",
    "import pyspark.sql.functions as f\n",
    "from pyspark.sql import SparkSession\n",
    "from pyspark import SparkContext\n",
    "from pyspark.sql.types import *\n",
    "\n",
    "import warnings\n",
    "warnings.filterwarnings(\"ignore\")\n",
    "\n",
    "SparkContext.setSystemProperty('spark.executor.memory', '8g')\n",
    "SparkContext.setSystemProperty('spark.executor.cores', '4')\n",
    "SparkContext.setSystemProperty('spark.cores.max', '4')\n",
    "SparkContext.setSystemProperty(\"spark.driver.memory\",'8g')\n",
    "\n",
    "sc = SparkContext(\"local\", \"Data Preprocessing YTX\")\n",
    "spark = SparkSession.builder.getOrCreate()\n",
    "spark"
   ]
  },
  {
   "cell_type": "code",
   "execution_count": 2,
   "id": "eace3b14",
   "metadata": {},
   "outputs": [],
   "source": [
    "spark.conf.set(\"spark.sql.execution.arrow.pyspark.enabled\", \"true\")\n",
    "spark.conf.set(\"spark.sql.legacy.timeParserPolicy\",\"LEGACY\")\n",
    "spark.conf.set('spark.sql.repl.eagerEval.enabled', True)"
   ]
  },
  {
   "cell_type": "markdown",
   "id": "f9d17a71",
   "metadata": {},
   "source": [
    "### Global Hourly Climate Data 2018"
   ]
  },
  {
   "cell_type": "code",
   "execution_count": 3,
   "id": "1f6ad706",
   "metadata": {},
   "outputs": [],
   "source": [
    "ghc_2018_sdf = spark.read.parquet('../preprocessed_data/nyc_ghc_2018_pre.parquet/')"
   ]
  },
  {
   "cell_type": "markdown",
   "id": "2bba3801",
   "metadata": {},
   "source": [
    "### Yellow Taxi 2018"
   ]
  },
  {
   "cell_type": "code",
   "execution_count": 4,
   "id": "7da433b0",
   "metadata": {},
   "outputs": [],
   "source": [
    "ytx_2018_sdf = spark.read.parquet('../preprocessed_data/ytx_2018_cleaned.parquet/')"
   ]
  },
  {
   "cell_type": "code",
   "execution_count": 5,
   "id": "1dc0c6a2",
   "metadata": {},
   "outputs": [],
   "source": [
    "ytx_2018_sdf = ytx_2018_sdf.withColumn(\"pickup_time_hour\", f.date_trunc(\"hour\", f.col(\"tpep_pickup_datetime\")))"
   ]
  },
  {
   "cell_type": "code",
   "execution_count": 6,
   "id": "db8d0da3",
   "metadata": {},
   "outputs": [],
   "source": [
    "# Inner join on pickup time hour and closest hour\n",
    "ytx_2018_sdf = ytx_2018_sdf.join(f.broadcast(ghc_2018_sdf), (ytx_2018_sdf['pickup_time_hour'] == ghc_2018_sdf['closest_hour']))"
   ]
  },
  {
   "cell_type": "code",
   "execution_count": 7,
   "id": "6b9b7cb3",
   "metadata": {},
   "outputs": [],
   "source": [
    "ytx_2018_sdf = ytx_2018_sdf.withColumnRenamed('avg(wind_angle_degrees)', 'wind_angle_degrees') \\\n",
    "                         .withColumnRenamed('avg(wind_speed_mps)', 'wind_speed_mps') \\\n",
    "                         .withColumnRenamed('avg(air_temp_celsius)', 'air_temp_celsius') \\\n",
    "                         .withColumnRenamed('avg(dew_temp_celsius)', 'dew_temp_celsius') \\\n",
    "                         .withColumnRenamed('avg(sky_ceil_height_meters)', 'sky_ceil_height_meters') \\\n",
    "                         .withColumnRenamed('avg(vis_distance_meters)', 'vis_distance_meters') \\\n",
    "                         .withColumnRenamed('avg(atp_hectopascals)', 'atp_hectopascals')"
   ]
  },
  {
   "cell_type": "code",
   "execution_count": 8,
   "id": "0ca262c3",
   "metadata": {},
   "outputs": [
    {
     "name": "stdout",
     "output_type": "stream",
     "text": [
      "root\n",
      " |-- tpep_pickup_datetime: timestamp (nullable = true)\n",
      " |-- tpep_dropoff_datetime: timestamp (nullable = true)\n",
      " |-- trip_distance: double (nullable = true)\n",
      " |-- PULocationID: integer (nullable = true)\n",
      " |-- DOLocationID: integer (nullable = true)\n",
      " |-- fare_amount: double (nullable = true)\n",
      " |-- tip_amount: double (nullable = true)\n",
      " |-- tolls_amount: double (nullable = true)\n",
      " |-- trip_duration: double (nullable = true)\n",
      " |-- avg_speed: double (nullable = true)\n",
      " |-- pickup_time_hour: timestamp (nullable = true)\n",
      " |-- closest_hour: timestamp (nullable = true)\n",
      " |-- wind_angle_degrees: double (nullable = true)\n",
      " |-- wind_speed_mps: double (nullable = true)\n",
      " |-- air_temp_celsius: double (nullable = true)\n",
      " |-- dew_temp_celsius: double (nullable = true)\n",
      " |-- sky_ceil_height_meters: double (nullable = true)\n",
      " |-- vis_distance_meters: double (nullable = true)\n",
      " |-- atp_hectopascals: double (nullable = true)\n",
      "\n"
     ]
    }
   ],
   "source": [
    "ytx_2018_sdf.printSchema()"
   ]
  },
  {
   "cell_type": "code",
   "execution_count": 9,
   "id": "c41f952d",
   "metadata": {},
   "outputs": [],
   "source": [
    "# Drop keys\n",
    "ytx_2018_sdf = ytx_2018_sdf.drop('pickup_time_hour', 'closest_hour') "
   ]
  },
  {
   "cell_type": "code",
   "execution_count": 10,
   "id": "37e2cfc7",
   "metadata": {},
   "outputs": [],
   "source": [
    "from shutil import rmtree\n",
    "from os import path\n",
    "\n",
    "fpath = '../preprocessed_data/ytx_2018_pre.parquet/'\n",
    "\n",
    "if path.exists(fpath):\n",
    "    rmtree(fpath)\n",
    "        \n",
    "ytx_2018_sdf.write.parquet('../preprocessed_data/ytx_2018_pre.parquet')"
   ]
  },
  {
   "cell_type": "markdown",
   "id": "0e6a742d",
   "metadata": {},
   "source": [
    "### Sampling for Statistical Modelling"
   ]
  },
  {
   "cell_type": "code",
   "execution_count": 11,
   "id": "496b1297",
   "metadata": {},
   "outputs": [
    {
     "data": {
      "text/plain": [
       "31456026"
      ]
     },
     "execution_count": 11,
     "metadata": {},
     "output_type": "execute_result"
    }
   ],
   "source": [
    "temp = spark.read.parquet('../preprocessed_data/ytx_2018_pre.parquet/')\n",
    "temp = temp.drop('tpep_pickup_datetime', 'tpep_dropoff_datetime', 'PULocationID', 'DOLocationID',)\n",
    "temp.count()"
   ]
  },
  {
   "cell_type": "code",
   "execution_count": 12,
   "id": "b87bc7d7",
   "metadata": {},
   "outputs": [],
   "source": [
    "# 10% Sampling of Data for modelling\n",
    "sample_2018 = temp.sample(0.1, 17)"
   ]
  },
  {
   "cell_type": "code",
   "execution_count": 14,
   "id": "e89faff3",
   "metadata": {},
   "outputs": [],
   "source": [
    "fpath = '../preprocessed_data/ytx_2018_sample.parquet/'\n",
    "\n",
    "if path.exists(fpath):\n",
    "    rmtree(fpath)\n",
    "        \n",
    "sample_2018.write.parquet('../preprocessed_data/ytx_2018_sample.parquet')"
   ]
  },
  {
   "cell_type": "markdown",
   "id": "5ebfeffe",
   "metadata": {},
   "source": [
    "### Global Hourly Climate Data 2019"
   ]
  },
  {
   "cell_type": "code",
   "execution_count": 15,
   "id": "8644fe3c",
   "metadata": {},
   "outputs": [],
   "source": [
    "ghc_2019_sdf = spark.read.parquet('../preprocessed_data/nyc_ghc_2019_pre.parquet/')"
   ]
  },
  {
   "cell_type": "markdown",
   "id": "890b318c",
   "metadata": {},
   "source": [
    "### Yellow Taxi 2019"
   ]
  },
  {
   "cell_type": "code",
   "execution_count": 16,
   "id": "a1762d55",
   "metadata": {},
   "outputs": [],
   "source": [
    "ytx_2019_sdf = spark.read.parquet('../preprocessed_data/ytx_2019_cleaned.parquet/')"
   ]
  },
  {
   "cell_type": "code",
   "execution_count": 17,
   "id": "93092e7a",
   "metadata": {},
   "outputs": [],
   "source": [
    "ytx_2019_sdf = ytx_2019_sdf.withColumn(\"pickup_time_hour\", f.date_trunc(\"hour\", f.col(\"tpep_pickup_datetime\")))"
   ]
  },
  {
   "cell_type": "code",
   "execution_count": 18,
   "id": "5193a8f5",
   "metadata": {},
   "outputs": [],
   "source": [
    "# Inner join on pickup time hour and closest hour\n",
    "ytx_2019_sdf = ytx_2019_sdf.join(f.broadcast(ghc_2019_sdf), (ytx_2019_sdf['pickup_time_hour'] == ghc_2019_sdf['closest_hour']))"
   ]
  },
  {
   "cell_type": "code",
   "execution_count": 19,
   "id": "600e26d5",
   "metadata": {},
   "outputs": [],
   "source": [
    "ytx_2019_sdf = ytx_2019_sdf.withColumnRenamed('avg(wind_angle_degrees)', 'wind_angle_degrees') \\\n",
    "                         .withColumnRenamed('avg(wind_speed_mps)', 'wind_speed_mps') \\\n",
    "                         .withColumnRenamed('avg(air_temp_celsius)', 'air_temp_celsius') \\\n",
    "                         .withColumnRenamed('avg(dew_temp_celsius)', 'dew_temp_celsius') \\\n",
    "                         .withColumnRenamed('avg(sky_ceil_height_meters)', 'sky_ceil_height_meters') \\\n",
    "                         .withColumnRenamed('avg(vis_distance_meters)', 'vis_distance_meters') \\\n",
    "                         .withColumnRenamed('avg(atp_hectopascals)', 'atp_hectopascals')"
   ]
  },
  {
   "cell_type": "code",
   "execution_count": 20,
   "id": "c03dff93",
   "metadata": {},
   "outputs": [
    {
     "name": "stdout",
     "output_type": "stream",
     "text": [
      "root\n",
      " |-- tpep_pickup_datetime: timestamp (nullable = true)\n",
      " |-- tpep_dropoff_datetime: timestamp (nullable = true)\n",
      " |-- trip_distance: double (nullable = true)\n",
      " |-- PULocationID: integer (nullable = true)\n",
      " |-- DOLocationID: integer (nullable = true)\n",
      " |-- fare_amount: double (nullable = true)\n",
      " |-- tip_amount: double (nullable = true)\n",
      " |-- tolls_amount: double (nullable = true)\n",
      " |-- trip_duration: double (nullable = true)\n",
      " |-- avg_speed: double (nullable = true)\n",
      " |-- pickup_time_hour: timestamp (nullable = true)\n",
      " |-- closest_hour: timestamp (nullable = true)\n",
      " |-- wind_angle_degrees: double (nullable = true)\n",
      " |-- wind_speed_mps: double (nullable = true)\n",
      " |-- air_temp_celsius: double (nullable = true)\n",
      " |-- dew_temp_celsius: double (nullable = true)\n",
      " |-- sky_ceil_height_meters: double (nullable = true)\n",
      " |-- vis_distance_meters: double (nullable = true)\n",
      " |-- atp_hectopascals: double (nullable = true)\n",
      "\n"
     ]
    }
   ],
   "source": [
    "ytx_2019_sdf.printSchema()"
   ]
  },
  {
   "cell_type": "code",
   "execution_count": 21,
   "id": "18fc0d95",
   "metadata": {},
   "outputs": [],
   "source": [
    "# Drop total amount as it is a only a linear combination of the previous columns\n",
    "# and we are not trying to predict total amount.\n",
    "ytx_2019_sdf = ytx_2019_sdf.drop('pickup_time_hour', 'closest_hour') "
   ]
  },
  {
   "cell_type": "code",
   "execution_count": 22,
   "id": "a4f61049",
   "metadata": {},
   "outputs": [],
   "source": [
    "from shutil import rmtree\n",
    "from os import path\n",
    "\n",
    "fpath = '../preprocessed_data/ytx_2019_pre.parquet/'\n",
    "\n",
    "if path.exists(fpath):\n",
    "    rmtree(fpath)\n",
    "        \n",
    "ytx_2019_sdf.write.parquet('../preprocessed_data/ytx_2019_pre.parquet')"
   ]
  },
  {
   "cell_type": "code",
   "execution_count": 23,
   "id": "8d8fe910",
   "metadata": {},
   "outputs": [
    {
     "data": {
      "text/plain": [
       "17460233"
      ]
     },
     "execution_count": 23,
     "metadata": {},
     "output_type": "execute_result"
    }
   ],
   "source": [
    "temp_1 = spark.read.parquet('../preprocessed_data/ytx_2019_pre.parquet/')\n",
    "temp_1 = temp_1.drop('tpep_pickup_datetime', 'tpep_dropoff_datetime', 'PULocationID', 'DOLocationID',)\n",
    "temp_1.count()"
   ]
  },
  {
   "cell_type": "code",
   "execution_count": 25,
   "id": "b9f77593",
   "metadata": {},
   "outputs": [],
   "source": [
    "# Sample 10% of the dataset with seed 17. Note: Does not guarantee to have the same split everytime.\n",
    "sample = temp_1.sample(0.1, 17)"
   ]
  },
  {
   "cell_type": "code",
   "execution_count": 27,
   "id": "924a7083",
   "metadata": {},
   "outputs": [],
   "source": [
    "fpath = '../preprocessed_data/ytx_2019_sample.parquet/'\n",
    "\n",
    "if path.exists(fpath):\n",
    "    rmtree(fpath)\n",
    "        \n",
    "temp_1.write.parquet('../preprocessed_data/ytx_2019_sample.parquet')"
   ]
  }
 ],
 "metadata": {
  "kernelspec": {
   "display_name": "Python 3",
   "language": "python",
   "name": "python3"
  },
  "language_info": {
   "codemirror_mode": {
    "name": "ipython",
    "version": 3
   },
   "file_extension": ".py",
   "mimetype": "text/x-python",
   "name": "python",
   "nbconvert_exporter": "python",
   "pygments_lexer": "ipython3",
   "version": "3.9.7"
  },
  "varInspector": {
   "cols": {
    "lenName": 16,
    "lenType": 16,
    "lenVar": 40
   },
   "kernels_config": {
    "python": {
     "delete_cmd_postfix": "",
     "delete_cmd_prefix": "del ",
     "library": "var_list.py",
     "varRefreshCmd": "print(var_dic_list())"
    },
    "r": {
     "delete_cmd_postfix": ") ",
     "delete_cmd_prefix": "rm(",
     "library": "var_list.r",
     "varRefreshCmd": "cat(var_dic_list()) "
    }
   },
   "types_to_exclude": [
    "module",
    "function",
    "builtin_function_or_method",
    "instance",
    "_Feature"
   ],
   "window_display": false
  }
 },
 "nbformat": 4,
 "nbformat_minor": 5
}
